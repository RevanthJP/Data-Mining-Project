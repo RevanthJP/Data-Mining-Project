{
 "cells": [
  {
   "cell_type": "markdown",
   "id": "5b3c9dcf",
   "metadata": {},
   "source": [
    "### 2.1 Read the data, do the necessary initial steps, and exploratory data analysis (Univariate, Bi-variate, and multivariate analysis)."
   ]
  },
  {
   "cell_type": "code",
   "execution_count": 1,
   "id": "365bc3fe",
   "metadata": {},
   "outputs": [
    {
     "name": "stderr",
     "output_type": "stream",
     "text": [
      "C:\\Users\\Administrator\\anaconda3\\lib\\site-packages\\scipy\\__init__.py:146: UserWarning: A NumPy version >=1.16.5 and <1.23.0 is required for this version of SciPy (detected version 1.23.2\n",
      "  warnings.warn(f\"A NumPy version >={np_minversion} and <{np_maxversion}\"\n"
     ]
    }
   ],
   "source": [
    "import numpy as np\n",
    "import pandas as pd\n",
    "import matplotlib.pyplot as plt\n",
    "import seaborn as sns"
   ]
  },
  {
   "cell_type": "code",
   "execution_count": 2,
   "id": "8415dbf4",
   "metadata": {},
   "outputs": [],
   "source": [
    "df = pd.read_csv('insurance_part2_data.csv')"
   ]
  },
  {
   "cell_type": "code",
   "execution_count": 3,
   "id": "c6a360a3",
   "metadata": {},
   "outputs": [
    {
     "data": {
      "text/html": [
       "<div>\n",
       "<style scoped>\n",
       "    .dataframe tbody tr th:only-of-type {\n",
       "        vertical-align: middle;\n",
       "    }\n",
       "\n",
       "    .dataframe tbody tr th {\n",
       "        vertical-align: top;\n",
       "    }\n",
       "\n",
       "    .dataframe thead th {\n",
       "        text-align: right;\n",
       "    }\n",
       "</style>\n",
       "<table border=\"1\" class=\"dataframe\">\n",
       "  <thead>\n",
       "    <tr style=\"text-align: right;\">\n",
       "      <th></th>\n",
       "      <th>Age</th>\n",
       "      <th>Agency_Code</th>\n",
       "      <th>Type</th>\n",
       "      <th>Claimed</th>\n",
       "      <th>Commision</th>\n",
       "      <th>Channel</th>\n",
       "      <th>Duration</th>\n",
       "      <th>Sales</th>\n",
       "      <th>Product Name</th>\n",
       "      <th>Destination</th>\n",
       "    </tr>\n",
       "  </thead>\n",
       "  <tbody>\n",
       "    <tr>\n",
       "      <th>0</th>\n",
       "      <td>48</td>\n",
       "      <td>C2B</td>\n",
       "      <td>Airlines</td>\n",
       "      <td>No</td>\n",
       "      <td>0.70</td>\n",
       "      <td>Online</td>\n",
       "      <td>7</td>\n",
       "      <td>2.51</td>\n",
       "      <td>Customised Plan</td>\n",
       "      <td>ASIA</td>\n",
       "    </tr>\n",
       "    <tr>\n",
       "      <th>1</th>\n",
       "      <td>36</td>\n",
       "      <td>EPX</td>\n",
       "      <td>Travel Agency</td>\n",
       "      <td>No</td>\n",
       "      <td>0.00</td>\n",
       "      <td>Online</td>\n",
       "      <td>34</td>\n",
       "      <td>20.00</td>\n",
       "      <td>Customised Plan</td>\n",
       "      <td>ASIA</td>\n",
       "    </tr>\n",
       "    <tr>\n",
       "      <th>2</th>\n",
       "      <td>39</td>\n",
       "      <td>CWT</td>\n",
       "      <td>Travel Agency</td>\n",
       "      <td>No</td>\n",
       "      <td>5.94</td>\n",
       "      <td>Online</td>\n",
       "      <td>3</td>\n",
       "      <td>9.90</td>\n",
       "      <td>Customised Plan</td>\n",
       "      <td>Americas</td>\n",
       "    </tr>\n",
       "    <tr>\n",
       "      <th>3</th>\n",
       "      <td>36</td>\n",
       "      <td>EPX</td>\n",
       "      <td>Travel Agency</td>\n",
       "      <td>No</td>\n",
       "      <td>0.00</td>\n",
       "      <td>Online</td>\n",
       "      <td>4</td>\n",
       "      <td>26.00</td>\n",
       "      <td>Cancellation Plan</td>\n",
       "      <td>ASIA</td>\n",
       "    </tr>\n",
       "    <tr>\n",
       "      <th>4</th>\n",
       "      <td>33</td>\n",
       "      <td>JZI</td>\n",
       "      <td>Airlines</td>\n",
       "      <td>No</td>\n",
       "      <td>6.30</td>\n",
       "      <td>Online</td>\n",
       "      <td>53</td>\n",
       "      <td>18.00</td>\n",
       "      <td>Bronze Plan</td>\n",
       "      <td>ASIA</td>\n",
       "    </tr>\n",
       "  </tbody>\n",
       "</table>\n",
       "</div>"
      ],
      "text/plain": [
       "   Age Agency_Code           Type Claimed  Commision Channel  Duration  Sales  \\\n",
       "0   48         C2B       Airlines      No       0.70  Online         7   2.51   \n",
       "1   36         EPX  Travel Agency      No       0.00  Online        34  20.00   \n",
       "2   39         CWT  Travel Agency      No       5.94  Online         3   9.90   \n",
       "3   36         EPX  Travel Agency      No       0.00  Online         4  26.00   \n",
       "4   33         JZI       Airlines      No       6.30  Online        53  18.00   \n",
       "\n",
       "        Product Name Destination  \n",
       "0    Customised Plan        ASIA  \n",
       "1    Customised Plan        ASIA  \n",
       "2    Customised Plan    Americas  \n",
       "3  Cancellation Plan        ASIA  \n",
       "4        Bronze Plan        ASIA  "
      ]
     },
     "execution_count": 3,
     "metadata": {},
     "output_type": "execute_result"
    }
   ],
   "source": [
    "df.head()"
   ]
  },
  {
   "cell_type": "code",
   "execution_count": 4,
   "id": "3b4405ad",
   "metadata": {},
   "outputs": [
    {
     "name": "stdout",
     "output_type": "stream",
     "text": [
      "<class 'pandas.core.frame.DataFrame'>\n",
      "RangeIndex: 3000 entries, 0 to 2999\n",
      "Data columns (total 10 columns):\n",
      " #   Column        Non-Null Count  Dtype  \n",
      "---  ------        --------------  -----  \n",
      " 0   Age           3000 non-null   int64  \n",
      " 1   Agency_Code   3000 non-null   object \n",
      " 2   Type          3000 non-null   object \n",
      " 3   Claimed       3000 non-null   object \n",
      " 4   Commision     3000 non-null   float64\n",
      " 5   Channel       3000 non-null   object \n",
      " 6   Duration      3000 non-null   int64  \n",
      " 7   Sales         3000 non-null   float64\n",
      " 8   Product Name  3000 non-null   object \n",
      " 9   Destination   3000 non-null   object \n",
      "dtypes: float64(2), int64(2), object(6)\n",
      "memory usage: 234.5+ KB\n"
     ]
    }
   ],
   "source": [
    "df.info()"
   ]
  },
  {
   "cell_type": "code",
   "execution_count": 5,
   "id": "f5590b07",
   "metadata": {},
   "outputs": [
    {
     "data": {
      "text/plain": [
       "Age             0\n",
       "Agency_Code     0\n",
       "Type            0\n",
       "Claimed         0\n",
       "Commision       0\n",
       "Channel         0\n",
       "Duration        0\n",
       "Sales           0\n",
       "Product Name    0\n",
       "Destination     0\n",
       "dtype: int64"
      ]
     },
     "execution_count": 5,
     "metadata": {},
     "output_type": "execute_result"
    }
   ],
   "source": [
    "df.isnull().sum()"
   ]
  },
  {
   "cell_type": "code",
   "execution_count": 6,
   "id": "2d8b7f6a",
   "metadata": {},
   "outputs": [
    {
     "data": {
      "text/html": [
       "<div>\n",
       "<style scoped>\n",
       "    .dataframe tbody tr th:only-of-type {\n",
       "        vertical-align: middle;\n",
       "    }\n",
       "\n",
       "    .dataframe tbody tr th {\n",
       "        vertical-align: top;\n",
       "    }\n",
       "\n",
       "    .dataframe thead th {\n",
       "        text-align: right;\n",
       "    }\n",
       "</style>\n",
       "<table border=\"1\" class=\"dataframe\">\n",
       "  <thead>\n",
       "    <tr style=\"text-align: right;\">\n",
       "      <th></th>\n",
       "      <th>Age</th>\n",
       "      <th>Agency_Code</th>\n",
       "      <th>Type</th>\n",
       "      <th>Claimed</th>\n",
       "      <th>Commision</th>\n",
       "      <th>Channel</th>\n",
       "      <th>Duration</th>\n",
       "      <th>Sales</th>\n",
       "      <th>Product Name</th>\n",
       "      <th>Destination</th>\n",
       "    </tr>\n",
       "  </thead>\n",
       "  <tbody>\n",
       "    <tr>\n",
       "      <th>count</th>\n",
       "      <td>3000.000000</td>\n",
       "      <td>3000</td>\n",
       "      <td>3000</td>\n",
       "      <td>3000</td>\n",
       "      <td>3000.000000</td>\n",
       "      <td>3000</td>\n",
       "      <td>3000.000000</td>\n",
       "      <td>3000.000000</td>\n",
       "      <td>3000</td>\n",
       "      <td>3000</td>\n",
       "    </tr>\n",
       "    <tr>\n",
       "      <th>unique</th>\n",
       "      <td>NaN</td>\n",
       "      <td>4</td>\n",
       "      <td>2</td>\n",
       "      <td>2</td>\n",
       "      <td>NaN</td>\n",
       "      <td>2</td>\n",
       "      <td>NaN</td>\n",
       "      <td>NaN</td>\n",
       "      <td>5</td>\n",
       "      <td>3</td>\n",
       "    </tr>\n",
       "    <tr>\n",
       "      <th>top</th>\n",
       "      <td>NaN</td>\n",
       "      <td>EPX</td>\n",
       "      <td>Travel Agency</td>\n",
       "      <td>No</td>\n",
       "      <td>NaN</td>\n",
       "      <td>Online</td>\n",
       "      <td>NaN</td>\n",
       "      <td>NaN</td>\n",
       "      <td>Customised Plan</td>\n",
       "      <td>ASIA</td>\n",
       "    </tr>\n",
       "    <tr>\n",
       "      <th>freq</th>\n",
       "      <td>NaN</td>\n",
       "      <td>1365</td>\n",
       "      <td>1837</td>\n",
       "      <td>2076</td>\n",
       "      <td>NaN</td>\n",
       "      <td>2954</td>\n",
       "      <td>NaN</td>\n",
       "      <td>NaN</td>\n",
       "      <td>1136</td>\n",
       "      <td>2465</td>\n",
       "    </tr>\n",
       "    <tr>\n",
       "      <th>mean</th>\n",
       "      <td>38.091000</td>\n",
       "      <td>NaN</td>\n",
       "      <td>NaN</td>\n",
       "      <td>NaN</td>\n",
       "      <td>14.529203</td>\n",
       "      <td>NaN</td>\n",
       "      <td>70.001333</td>\n",
       "      <td>60.249913</td>\n",
       "      <td>NaN</td>\n",
       "      <td>NaN</td>\n",
       "    </tr>\n",
       "    <tr>\n",
       "      <th>std</th>\n",
       "      <td>10.463518</td>\n",
       "      <td>NaN</td>\n",
       "      <td>NaN</td>\n",
       "      <td>NaN</td>\n",
       "      <td>25.481455</td>\n",
       "      <td>NaN</td>\n",
       "      <td>134.053313</td>\n",
       "      <td>70.733954</td>\n",
       "      <td>NaN</td>\n",
       "      <td>NaN</td>\n",
       "    </tr>\n",
       "    <tr>\n",
       "      <th>min</th>\n",
       "      <td>8.000000</td>\n",
       "      <td>NaN</td>\n",
       "      <td>NaN</td>\n",
       "      <td>NaN</td>\n",
       "      <td>0.000000</td>\n",
       "      <td>NaN</td>\n",
       "      <td>-1.000000</td>\n",
       "      <td>0.000000</td>\n",
       "      <td>NaN</td>\n",
       "      <td>NaN</td>\n",
       "    </tr>\n",
       "    <tr>\n",
       "      <th>25%</th>\n",
       "      <td>32.000000</td>\n",
       "      <td>NaN</td>\n",
       "      <td>NaN</td>\n",
       "      <td>NaN</td>\n",
       "      <td>0.000000</td>\n",
       "      <td>NaN</td>\n",
       "      <td>11.000000</td>\n",
       "      <td>20.000000</td>\n",
       "      <td>NaN</td>\n",
       "      <td>NaN</td>\n",
       "    </tr>\n",
       "    <tr>\n",
       "      <th>50%</th>\n",
       "      <td>36.000000</td>\n",
       "      <td>NaN</td>\n",
       "      <td>NaN</td>\n",
       "      <td>NaN</td>\n",
       "      <td>4.630000</td>\n",
       "      <td>NaN</td>\n",
       "      <td>26.500000</td>\n",
       "      <td>33.000000</td>\n",
       "      <td>NaN</td>\n",
       "      <td>NaN</td>\n",
       "    </tr>\n",
       "    <tr>\n",
       "      <th>75%</th>\n",
       "      <td>42.000000</td>\n",
       "      <td>NaN</td>\n",
       "      <td>NaN</td>\n",
       "      <td>NaN</td>\n",
       "      <td>17.235000</td>\n",
       "      <td>NaN</td>\n",
       "      <td>63.000000</td>\n",
       "      <td>69.000000</td>\n",
       "      <td>NaN</td>\n",
       "      <td>NaN</td>\n",
       "    </tr>\n",
       "    <tr>\n",
       "      <th>max</th>\n",
       "      <td>84.000000</td>\n",
       "      <td>NaN</td>\n",
       "      <td>NaN</td>\n",
       "      <td>NaN</td>\n",
       "      <td>210.210000</td>\n",
       "      <td>NaN</td>\n",
       "      <td>4580.000000</td>\n",
       "      <td>539.000000</td>\n",
       "      <td>NaN</td>\n",
       "      <td>NaN</td>\n",
       "    </tr>\n",
       "  </tbody>\n",
       "</table>\n",
       "</div>"
      ],
      "text/plain": [
       "                Age Agency_Code           Type Claimed    Commision Channel  \\\n",
       "count   3000.000000        3000           3000    3000  3000.000000    3000   \n",
       "unique          NaN           4              2       2          NaN       2   \n",
       "top             NaN         EPX  Travel Agency      No          NaN  Online   \n",
       "freq            NaN        1365           1837    2076          NaN    2954   \n",
       "mean      38.091000         NaN            NaN     NaN    14.529203     NaN   \n",
       "std       10.463518         NaN            NaN     NaN    25.481455     NaN   \n",
       "min        8.000000         NaN            NaN     NaN     0.000000     NaN   \n",
       "25%       32.000000         NaN            NaN     NaN     0.000000     NaN   \n",
       "50%       36.000000         NaN            NaN     NaN     4.630000     NaN   \n",
       "75%       42.000000         NaN            NaN     NaN    17.235000     NaN   \n",
       "max       84.000000         NaN            NaN     NaN   210.210000     NaN   \n",
       "\n",
       "           Duration        Sales     Product Name Destination  \n",
       "count   3000.000000  3000.000000             3000        3000  \n",
       "unique          NaN          NaN                5           3  \n",
       "top             NaN          NaN  Customised Plan        ASIA  \n",
       "freq            NaN          NaN             1136        2465  \n",
       "mean      70.001333    60.249913              NaN         NaN  \n",
       "std      134.053313    70.733954              NaN         NaN  \n",
       "min       -1.000000     0.000000              NaN         NaN  \n",
       "25%       11.000000    20.000000              NaN         NaN  \n",
       "50%       26.500000    33.000000              NaN         NaN  \n",
       "75%       63.000000    69.000000              NaN         NaN  \n",
       "max     4580.000000   539.000000              NaN         NaN  "
      ]
     },
     "execution_count": 6,
     "metadata": {},
     "output_type": "execute_result"
    }
   ],
   "source": [
    "df.describe(include='all')"
   ]
  },
  {
   "cell_type": "code",
   "execution_count": 7,
   "id": "756afd0e",
   "metadata": {},
   "outputs": [
    {
     "name": "stdout",
     "output_type": "stream",
     "text": [
      "EPX    1365\n",
      "C2B     924\n",
      "CWT     472\n",
      "JZI     239\n",
      "Name: Agency_Code, dtype: int64\n"
     ]
    },
    {
     "data": {
      "image/png": "[encoded data removed]",
      "text/plain": [
       "<Figure size 432x288 with 1 Axes>"
      ]
     },
     "metadata": {
      "needs_background": "light"
     },
     "output_type": "display_data"
    }
   ],
   "source": [
    "# let us view the unique categories among each object variables adn visualize for better understanding\n",
    "\n",
    "print(df['Agency_Code'].value_counts())\n",
    "df['Agency_Code'].value_counts().plot(kind='bar');"
   ]
  },
  {
   "cell_type": "code",
   "execution_count": 8,
   "id": "e37f718a",
   "metadata": {},
   "outputs": [
    {
     "name": "stdout",
     "output_type": "stream",
     "text": [
      "Travel Agency    1837\n",
      "Airlines         1163\n",
      "Name: Type, dtype: int64\n"
     ]
    },
    {
     "data": {
      "image/png": "[encoded data removed]",
      "text/plain": [
       "<Figure size 432x288 with 1 Axes>"
      ]
     },
     "metadata": {
      "needs_background": "light"
     },
     "output_type": "display_data"
    }
   ],
   "source": [
    "print(df['Type'].value_counts())\n",
    "df['Type'].value_counts().plot(kind= 'bar');"
   ]
  },
  {
   "cell_type": "code",
   "execution_count": 9,
   "id": "ebb613cd",
   "metadata": {},
   "outputs": [
    {
     "name": "stdout",
     "output_type": "stream",
     "text": [
      "No     2076\n",
      "Yes     924\n",
      "Name: Claimed, dtype: int64\n"
     ]
    },
    {
     "data": {
      "image/png": "[encoded data removed]",
      "text/plain": [
       "<Figure size 432x288 with 1 Axes>"
      ]
     },
     "metadata": {
      "needs_background": "light"
     },
     "output_type": "display_data"
    }
   ],
   "source": [
    "print(df['Claimed'].value_counts())\n",
    "df['Claimed'].value_counts().plot(kind= 'bar');"
   ]
  },
  {
   "cell_type": "code",
   "execution_count": 10,
   "id": "facc8dd9",
   "metadata": {},
   "outputs": [
    {
     "name": "stdout",
     "output_type": "stream",
     "text": [
      "Online     2954\n",
      "Offline      46\n",
      "Name: Channel, dtype: int64\n"
     ]
    },
    {
     "data": {
      "image/png": "[encoded data removed]",
      "text/plain": [
       "<Figure size 432x288 with 1 Axes>"
      ]
     },
     "metadata": {
      "needs_background": "light"
     },
     "output_type": "display_data"
    }
   ],
   "source": [
    "print(df['Channel'].value_counts())\n",
    "df['Channel'].value_counts().plot(kind='bar');"
   ]
  },
  {
   "cell_type": "code",
   "execution_count": 11,
   "id": "973ac14b",
   "metadata": {},
   "outputs": [
    {
     "name": "stdout",
     "output_type": "stream",
     "text": [
      "Customised Plan      1136\n",
      "Cancellation Plan     678\n",
      "Bronze Plan           650\n",
      "Silver Plan           427\n",
      "Gold Plan             109\n",
      "Name: Product Name, dtype: int64\n"
     ]
    },
    {
     "data": {
      "image/png": "[encoded data removed]",
      "text/plain": [
       "<Figure size 432x288 with 1 Axes>"
      ]
     },
     "metadata": {
      "needs_background": "light"
     },
     "output_type": "display_data"
    }
   ],
   "source": [
    "print(df['Product Name'].value_counts())\n",
    "df['Product Name'].value_counts().plot(kind='bar');"
   ]
  },
  {
   "cell_type": "code",
   "execution_count": 12,
   "id": "8be40093",
   "metadata": {},
   "outputs": [
    {
     "name": "stdout",
     "output_type": "stream",
     "text": [
      "ASIA        2465\n",
      "Americas     320\n",
      "EUROPE       215\n",
      "Name: Destination, dtype: int64\n"
     ]
    },
    {
     "data": {
      "image/png": "[encoded data removed]",
      "text/plain": [
       "<Figure size 432x288 with 1 Axes>"
      ]
     },
     "metadata": {
      "needs_background": "light"
     },
     "output_type": "display_data"
    }
   ],
   "source": [
    "print(df['Destination'].value_counts())\n",
    "df['Destination'].value_counts().plot(kind='bar');"
   ]
  },
  {
   "cell_type": "markdown",
   "id": "7cd9528a",
   "metadata": {},
   "source": [
    "Upon visualizing each categorical variable we can clearly see lots of information provided by them\n",
    "\n",
    "    - There are four tour firms and EPX tops the counts.\n",
    "    - Most of the insurance type is Travel agency not Airline.\n",
    "    - Comparing claimed and not claimed status, less number of claims have been approved.\n",
    "    - Most claims are made through online.\n",
    "    - Customized plan is the most opted insurance type followed by cancellation plan.\n",
    "    - Asia is the top destiantion of the tourist."
   ]
  },
  {
   "cell_type": "code",
   "execution_count": 13,
   "id": "831ef477",
   "metadata": {},
   "outputs": [],
   "source": [
    "# Converting categorical variable into numeric\n",
    "\n",
    "for column in df[['Agency_Code', 'Type','Claimed','Channel', 'Product Name', 'Destination']]:\n",
    "    if df[column].dtype == 'object':\n",
    "        df[column] = pd.Categorical(df[column]).codes       "
   ]
  },
  {
   "cell_type": "code",
   "execution_count": 14,
   "id": "d803fbce",
   "metadata": {},
   "outputs": [
    {
     "data": {
      "text/html": [
       "<div>\n",
       "<style scoped>\n",
       "    .dataframe tbody tr th:only-of-type {\n",
       "        vertical-align: middle;\n",
       "    }\n",
       "\n",
       "    .dataframe tbody tr th {\n",
       "        vertical-align: top;\n",
       "    }\n",
       "\n",
       "    .dataframe thead th {\n",
       "        text-align: right;\n",
       "    }\n",
       "</style>\n",
       "<table border=\"1\" class=\"dataframe\">\n",
       "  <thead>\n",
       "    <tr style=\"text-align: right;\">\n",
       "      <th></th>\n",
       "      <th>Age</th>\n",
       "      <th>Agency_Code</th>\n",
       "      <th>Type</th>\n",
       "      <th>Claimed</th>\n",
       "      <th>Commision</th>\n",
       "      <th>Channel</th>\n",
       "      <th>Duration</th>\n",
       "      <th>Sales</th>\n",
       "      <th>Product Name</th>\n",
       "      <th>Destination</th>\n",
       "    </tr>\n",
       "  </thead>\n",
       "  <tbody>\n",
       "    <tr>\n",
       "      <th>0</th>\n",
       "      <td>48</td>\n",
       "      <td>0</td>\n",
       "      <td>0</td>\n",
       "      <td>0</td>\n",
       "      <td>0.70</td>\n",
       "      <td>1</td>\n",
       "      <td>7</td>\n",
       "      <td>2.51</td>\n",
       "      <td>2</td>\n",
       "      <td>0</td>\n",
       "    </tr>\n",
       "    <tr>\n",
       "      <th>1</th>\n",
       "      <td>36</td>\n",
       "      <td>2</td>\n",
       "      <td>1</td>\n",
       "      <td>0</td>\n",
       "      <td>0.00</td>\n",
       "      <td>1</td>\n",
       "      <td>34</td>\n",
       "      <td>20.00</td>\n",
       "      <td>2</td>\n",
       "      <td>0</td>\n",
       "    </tr>\n",
       "    <tr>\n",
       "      <th>2</th>\n",
       "      <td>39</td>\n",
       "      <td>1</td>\n",
       "      <td>1</td>\n",
       "      <td>0</td>\n",
       "      <td>5.94</td>\n",
       "      <td>1</td>\n",
       "      <td>3</td>\n",
       "      <td>9.90</td>\n",
       "      <td>2</td>\n",
       "      <td>1</td>\n",
       "    </tr>\n",
       "    <tr>\n",
       "      <th>3</th>\n",
       "      <td>36</td>\n",
       "      <td>2</td>\n",
       "      <td>1</td>\n",
       "      <td>0</td>\n",
       "      <td>0.00</td>\n",
       "      <td>1</td>\n",
       "      <td>4</td>\n",
       "      <td>26.00</td>\n",
       "      <td>1</td>\n",
       "      <td>0</td>\n",
       "    </tr>\n",
       "    <tr>\n",
       "      <th>4</th>\n",
       "      <td>33</td>\n",
       "      <td>3</td>\n",
       "      <td>0</td>\n",
       "      <td>0</td>\n",
       "      <td>6.30</td>\n",
       "      <td>1</td>\n",
       "      <td>53</td>\n",
       "      <td>18.00</td>\n",
       "      <td>0</td>\n",
       "      <td>0</td>\n",
       "    </tr>\n",
       "  </tbody>\n",
       "</table>\n",
       "</div>"
      ],
      "text/plain": [
       "   Age  Agency_Code  Type  Claimed  Commision  Channel  Duration  Sales  \\\n",
       "0   48            0     0        0       0.70        1         7   2.51   \n",
       "1   36            2     1        0       0.00        1        34  20.00   \n",
       "2   39            1     1        0       5.94        1         3   9.90   \n",
       "3   36            2     1        0       0.00        1         4  26.00   \n",
       "4   33            3     0        0       6.30        1        53  18.00   \n",
       "\n",
       "   Product Name  Destination  \n",
       "0             2            0  \n",
       "1             2            0  \n",
       "2             2            1  \n",
       "3             1            0  \n",
       "4             0            0  "
      ]
     },
     "execution_count": 14,
     "metadata": {},
     "output_type": "execute_result"
    }
   ],
   "source": [
    "# let us check the converted varibale and it dtypes\n",
    "\n",
    "df.head()"
   ]
  },
  {
   "cell_type": "code",
   "execution_count": 15,
   "id": "db5c7e40",
   "metadata": {},
   "outputs": [
    {
     "name": "stdout",
     "output_type": "stream",
     "text": [
      "<class 'pandas.core.frame.DataFrame'>\n",
      "RangeIndex: 3000 entries, 0 to 2999\n",
      "Data columns (total 10 columns):\n",
      " #   Column        Non-Null Count  Dtype  \n",
      "---  ------        --------------  -----  \n",
      " 0   Age           3000 non-null   int64  \n",
      " 1   Agency_Code   3000 non-null   int8   \n",
      " 2   Type          3000 non-null   int8   \n",
      " 3   Claimed       3000 non-null   int8   \n",
      " 4   Commision     3000 non-null   float64\n",
      " 5   Channel       3000 non-null   int8   \n",
      " 6   Duration      3000 non-null   int64  \n",
      " 7   Sales         3000 non-null   float64\n",
      " 8   Product Name  3000 non-null   int8   \n",
      " 9   Destination   3000 non-null   int8   \n",
      "dtypes: float64(2), int64(2), int8(6)\n",
      "memory usage: 111.5 KB\n"
     ]
    }
   ],
   "source": [
    "df.info()"
   ]
  },
  {
   "cell_type": "code",
   "execution_count": 16,
   "id": "8ed01802",
   "metadata": {},
   "outputs": [
    {
     "data": {
      "text/html": [
       "<div>\n",
       "<style scoped>\n",
       "    .dataframe tbody tr th:only-of-type {\n",
       "        vertical-align: middle;\n",
       "    }\n",
       "\n",
       "    .dataframe tbody tr th {\n",
       "        vertical-align: top;\n",
       "    }\n",
       "\n",
       "    .dataframe thead th {\n",
       "        text-align: right;\n",
       "    }\n",
       "</style>\n",
       "<table border=\"1\" class=\"dataframe\">\n",
       "  <thead>\n",
       "    <tr style=\"text-align: right;\">\n",
       "      <th></th>\n",
       "      <th>count</th>\n",
       "      <th>mean</th>\n",
       "      <th>std</th>\n",
       "      <th>min</th>\n",
       "      <th>25%</th>\n",
       "      <th>50%</th>\n",
       "      <th>75%</th>\n",
       "      <th>max</th>\n",
       "    </tr>\n",
       "  </thead>\n",
       "  <tbody>\n",
       "    <tr>\n",
       "      <th>Age</th>\n",
       "      <td>3000.0</td>\n",
       "      <td>38.091000</td>\n",
       "      <td>10.463518</td>\n",
       "      <td>8.0</td>\n",
       "      <td>32.0</td>\n",
       "      <td>36.00</td>\n",
       "      <td>42.000</td>\n",
       "      <td>84.00</td>\n",
       "    </tr>\n",
       "    <tr>\n",
       "      <th>Agency_Code</th>\n",
       "      <td>3000.0</td>\n",
       "      <td>1.306333</td>\n",
       "      <td>0.994060</td>\n",
       "      <td>0.0</td>\n",
       "      <td>0.0</td>\n",
       "      <td>2.00</td>\n",
       "      <td>2.000</td>\n",
       "      <td>3.00</td>\n",
       "    </tr>\n",
       "    <tr>\n",
       "      <th>Type</th>\n",
       "      <td>3000.0</td>\n",
       "      <td>0.612333</td>\n",
       "      <td>0.487299</td>\n",
       "      <td>0.0</td>\n",
       "      <td>0.0</td>\n",
       "      <td>1.00</td>\n",
       "      <td>1.000</td>\n",
       "      <td>1.00</td>\n",
       "    </tr>\n",
       "    <tr>\n",
       "      <th>Claimed</th>\n",
       "      <td>3000.0</td>\n",
       "      <td>0.308000</td>\n",
       "      <td>0.461744</td>\n",
       "      <td>0.0</td>\n",
       "      <td>0.0</td>\n",
       "      <td>0.00</td>\n",
       "      <td>1.000</td>\n",
       "      <td>1.00</td>\n",
       "    </tr>\n",
       "    <tr>\n",
       "      <th>Commision</th>\n",
       "      <td>3000.0</td>\n",
       "      <td>14.529203</td>\n",
       "      <td>25.481455</td>\n",
       "      <td>0.0</td>\n",
       "      <td>0.0</td>\n",
       "      <td>4.63</td>\n",
       "      <td>17.235</td>\n",
       "      <td>210.21</td>\n",
       "    </tr>\n",
       "    <tr>\n",
       "      <th>Channel</th>\n",
       "      <td>3000.0</td>\n",
       "      <td>0.984667</td>\n",
       "      <td>0.122895</td>\n",
       "      <td>0.0</td>\n",
       "      <td>1.0</td>\n",
       "      <td>1.00</td>\n",
       "      <td>1.000</td>\n",
       "      <td>1.00</td>\n",
       "    </tr>\n",
       "    <tr>\n",
       "      <th>Duration</th>\n",
       "      <td>3000.0</td>\n",
       "      <td>70.001333</td>\n",
       "      <td>134.053313</td>\n",
       "      <td>-1.0</td>\n",
       "      <td>11.0</td>\n",
       "      <td>26.50</td>\n",
       "      <td>63.000</td>\n",
       "      <td>4580.00</td>\n",
       "    </tr>\n",
       "    <tr>\n",
       "      <th>Sales</th>\n",
       "      <td>3000.0</td>\n",
       "      <td>60.249913</td>\n",
       "      <td>70.733954</td>\n",
       "      <td>0.0</td>\n",
       "      <td>20.0</td>\n",
       "      <td>33.00</td>\n",
       "      <td>69.000</td>\n",
       "      <td>539.00</td>\n",
       "    </tr>\n",
       "    <tr>\n",
       "      <th>Product Name</th>\n",
       "      <td>3000.0</td>\n",
       "      <td>1.661667</td>\n",
       "      <td>1.258726</td>\n",
       "      <td>0.0</td>\n",
       "      <td>1.0</td>\n",
       "      <td>2.00</td>\n",
       "      <td>2.000</td>\n",
       "      <td>4.00</td>\n",
       "    </tr>\n",
       "    <tr>\n",
       "      <th>Destination</th>\n",
       "      <td>3000.0</td>\n",
       "      <td>0.250000</td>\n",
       "      <td>0.575277</td>\n",
       "      <td>0.0</td>\n",
       "      <td>0.0</td>\n",
       "      <td>0.00</td>\n",
       "      <td>0.000</td>\n",
       "      <td>2.00</td>\n",
       "    </tr>\n",
       "  </tbody>\n",
       "</table>\n",
       "</div>"
      ],
      "text/plain": [
       "               count       mean         std  min   25%    50%     75%      max\n",
       "Age           3000.0  38.091000   10.463518  8.0  32.0  36.00  42.000    84.00\n",
       "Agency_Code   3000.0   1.306333    0.994060  0.0   0.0   2.00   2.000     3.00\n",
       "Type          3000.0   0.612333    0.487299  0.0   0.0   1.00   1.000     1.00\n",
       "Claimed       3000.0   0.308000    0.461744  0.0   0.0   0.00   1.000     1.00\n",
       "Commision     3000.0  14.529203   25.481455  0.0   0.0   4.63  17.235   210.21\n",
       "Channel       3000.0   0.984667    0.122895  0.0   1.0   1.00   1.000     1.00\n",
       "Duration      3000.0  70.001333  134.053313 -1.0  11.0  26.50  63.000  4580.00\n",
       "Sales         3000.0  60.249913   70.733954  0.0  20.0  33.00  69.000   539.00\n",
       "Product Name  3000.0   1.661667    1.258726  0.0   1.0   2.00   2.000     4.00\n",
       "Destination   3000.0   0.250000    0.575277  0.0   0.0   0.00   0.000     2.00"
      ]
     },
     "execution_count": 16,
     "metadata": {},
     "output_type": "execute_result"
    }
   ],
   "source": [
    "df.describe().T"
   ]
  },
  {
   "cell_type": "code",
   "execution_count": 17,
   "id": "5f77b073",
   "metadata": {},
   "outputs": [
    {
     "data": {
      "image/png": "[encoded data removed]",
      "text/plain": [
       "<Figure size 720x504 with 1 Axes>"
      ]
     },
     "metadata": {
      "needs_background": "light"
     },
     "output_type": "display_data"
    }
   ],
   "source": [
    "# Now let us explore the continuous variables\n",
    "#cheking outliers\n",
    "plt.figure(figsize=(10,7))\n",
    "df['Age'].plot(kind='box');"
   ]
  },
  {
   "cell_type": "code",
   "execution_count": 18,
   "id": "e5017be9",
   "metadata": {},
   "outputs": [
    {
     "data": {
      "image/png": "[encoded data removed]",
      "text/plain": [
       "<Figure size 720x504 with 1 Axes>"
      ]
     },
     "metadata": {
      "needs_background": "light"
     },
     "output_type": "display_data"
    }
   ],
   "source": [
    "plt.figure(figsize=(10,7))\n",
    "df['Commision'].plot(kind='box');"
   ]
  },
  {
   "cell_type": "code",
   "execution_count": 19,
   "id": "97a7641d",
   "metadata": {},
   "outputs": [
    {
     "data": {
      "image/png": "[encoded data removed]",
      "text/plain": [
       "<Figure size 720x504 with 1 Axes>"
      ]
     },
     "metadata": {
      "needs_background": "light"
     },
     "output_type": "display_data"
    }
   ],
   "source": [
    "plt.figure(figsize=(10,7))\n",
    "df['Duration'].plot(kind='box');"
   ]
  },
  {
   "cell_type": "code",
   "execution_count": 20,
   "id": "364d43a8",
   "metadata": {},
   "outputs": [
    {
     "data": {
      "image/png": "[encoded data removed]",
      "text/plain": [
       "<Figure size 720x504 with 1 Axes>"
      ]
     },
     "metadata": {
      "needs_background": "light"
     },
     "output_type": "display_data"
    }
   ],
   "source": [
    "plt.figure(figsize=(10,7))\n",
    "df['Sales'].plot(kind='box');"
   ]
  },
  {
   "cell_type": "markdown",
   "id": "9404a9e6",
   "metadata": {},
   "source": [
    "The plots above clearly shows that there are lots of outliers present in the continuous variables."
   ]
  },
  {
   "cell_type": "markdown",
   "id": "c227c100",
   "metadata": {},
   "source": [
    "#### Treating Outliers"
   ]
  },
  {
   "cell_type": "code",
   "execution_count": 21,
   "id": "40ffc752",
   "metadata": {},
   "outputs": [],
   "source": [
    "def remove_outlier(col):\n",
    "    sorted(col)\n",
    "    Q1,Q3 = col.quantile([0.25,0.75])\n",
    "    IQR = Q3 - Q1  \n",
    "    lower_range = Q1 -(1.5*IQR)\n",
    "    upper_range = Q3 +(1.5*IQR)\n",
    "    return lower_range,upper_range"
   ]
  },
  {
   "cell_type": "code",
   "execution_count": 22,
   "id": "2bd174ec",
   "metadata": {},
   "outputs": [
    {
     "data": {
      "text/plain": [
       "(17.0, 57.0)"
      ]
     },
     "execution_count": 22,
     "metadata": {},
     "output_type": "execute_result"
    }
   ],
   "source": [
    "remove_outlier(df['Age'])"
   ]
  },
  {
   "cell_type": "code",
   "execution_count": 23,
   "id": "46868592",
   "metadata": {},
   "outputs": [],
   "source": [
    "df['Age'] = np.where(df['Age']> 57, df['Age'].median(), df['Age'])\n",
    "df['Age'] = np.where(df['Age']< 17, df['Age'].median(), df['Age'])\n"
   ]
  },
  {
   "cell_type": "code",
   "execution_count": 24,
   "id": "62c68e9c",
   "metadata": {},
   "outputs": [
    {
     "data": {
      "text/plain": [
       "<AxesSubplot:>"
      ]
     },
     "execution_count": 24,
     "metadata": {},
     "output_type": "execute_result"
    },
    {
     "data": {
      "image/png": "[encoded data removed]",
      "text/plain": [
       "<Figure size 720x504 with 1 Axes>"
      ]
     },
     "metadata": {
      "needs_background": "light"
     },
     "output_type": "display_data"
    }
   ],
   "source": [
    "plt.figure(figsize=(10,7))\n",
    "df['Age'].plot(kind='box')"
   ]
  },
  {
   "cell_type": "code",
   "execution_count": 25,
   "id": "08395bd0",
   "metadata": {},
   "outputs": [
    {
     "data": {
      "text/plain": [
       "(-25.8525, 43.0875)"
      ]
     },
     "execution_count": 25,
     "metadata": {},
     "output_type": "execute_result"
    }
   ],
   "source": [
    "remove_outlier(df['Commision'])"
   ]
  },
  {
   "cell_type": "code",
   "execution_count": 26,
   "id": "395c375b",
   "metadata": {},
   "outputs": [],
   "source": [
    "df['Commision'] = np.where(df['Commision']> 43.0875, df['Commision'].mean(), df['Commision'])\n",
    "df['Commision'] = np.where(df['Commision']< -25.8525, df['Commision'].mean(), df['Commision'])"
   ]
  },
  {
   "cell_type": "code",
   "execution_count": 27,
   "id": "f79a5f71",
   "metadata": {},
   "outputs": [
    {
     "data": {
      "image/png": "[encoded data removed]",
      "text/plain": [
       "<Figure size 720x504 with 1 Axes>"
      ]
     },
     "metadata": {
      "needs_background": "light"
     },
     "output_type": "display_data"
    }
   ],
   "source": [
    "plt.figure(figsize=(10,7))\n",
    "df['Commision'].plot(kind='box');"
   ]
  },
  {
   "cell_type": "code",
   "execution_count": 28,
   "id": "4322b522",
   "metadata": {},
   "outputs": [
    {
     "data": {
      "text/plain": [
       "(-67.0, 141.0)"
      ]
     },
     "execution_count": 28,
     "metadata": {},
     "output_type": "execute_result"
    }
   ],
   "source": [
    "remove_outlier(df['Duration'])"
   ]
  },
  {
   "cell_type": "code",
   "execution_count": 29,
   "id": "0aa140de",
   "metadata": {},
   "outputs": [],
   "source": [
    "df['Duration'] = np.where(df['Duration']> 141, df['Duration'].mean(), df['Duration'])\n",
    "df['Duration'] = np.where(df['Duration']< -67, df['Duration'].mean(), df['Duration'])"
   ]
  },
  {
   "cell_type": "code",
   "execution_count": 30,
   "id": "7a379774",
   "metadata": {},
   "outputs": [
    {
     "data": {
      "image/png": "[encoded data removed]",
      "text/plain": [
       "<Figure size 720x504 with 1 Axes>"
      ]
     },
     "metadata": {
      "needs_background": "light"
     },
     "output_type": "display_data"
    }
   ],
   "source": [
    "plt.figure(figsize=(10,7))\n",
    "df['Duration'].plot(kind='box');"
   ]
  },
  {
   "cell_type": "code",
   "execution_count": 31,
   "id": "df5742f2",
   "metadata": {},
   "outputs": [
    {
     "data": {
      "text/plain": [
       "(-53.5, 142.5)"
      ]
     },
     "execution_count": 31,
     "metadata": {},
     "output_type": "execute_result"
    }
   ],
   "source": [
    "remove_outlier(df['Sales'])"
   ]
  },
  {
   "cell_type": "code",
   "execution_count": 32,
   "id": "38d54d5b",
   "metadata": {},
   "outputs": [],
   "source": [
    "df['Sales'] = np.where(df['Sales']> 142.5, df['Sales'].mean(), df['Sales'])\n",
    "df['Sales'] = np.where(df['Sales']< -53.5, df['Sales'].mean(), df['Sales'])"
   ]
  },
  {
   "cell_type": "code",
   "execution_count": 33,
   "id": "94db0cb2",
   "metadata": {},
   "outputs": [
    {
     "data": {
      "image/png": "[encoded data removed]",
      "text/plain": [
       "<Figure size 720x504 with 1 Axes>"
      ]
     },
     "metadata": {
      "needs_background": "light"
     },
     "output_type": "display_data"
    }
   ],
   "source": [
    "plt.figure(figsize=(10,7))\n",
    "df['Sales'].plot(kind='box');"
   ]
  },
  {
   "cell_type": "markdown",
   "id": "bc499af1",
   "metadata": {},
   "source": [
    "Now, we see that the outliers in the numeric variables has been reduced."
   ]
  },
  {
   "cell_type": "code",
   "execution_count": 34,
   "id": "80277599",
   "metadata": {},
   "outputs": [
    {
     "data": {
      "text/html": [
       "<div>\n",
       "<style scoped>\n",
       "    .dataframe tbody tr th:only-of-type {\n",
       "        vertical-align: middle;\n",
       "    }\n",
       "\n",
       "    .dataframe tbody tr th {\n",
       "        vertical-align: top;\n",
       "    }\n",
       "\n",
       "    .dataframe thead th {\n",
       "        text-align: right;\n",
       "    }\n",
       "</style>\n",
       "<table border=\"1\" class=\"dataframe\">\n",
       "  <thead>\n",
       "    <tr style=\"text-align: right;\">\n",
       "      <th></th>\n",
       "      <th>Age</th>\n",
       "      <th>Agency_Code</th>\n",
       "      <th>Type</th>\n",
       "      <th>Claimed</th>\n",
       "      <th>Commision</th>\n",
       "      <th>Channel</th>\n",
       "      <th>Duration</th>\n",
       "      <th>Sales</th>\n",
       "      <th>Product Name</th>\n",
       "      <th>Destination</th>\n",
       "    </tr>\n",
       "  </thead>\n",
       "  <tbody>\n",
       "    <tr>\n",
       "      <th>Age</th>\n",
       "      <td>1.000000</td>\n",
       "      <td>0.067907</td>\n",
       "      <td>-0.005330</td>\n",
       "      <td>-0.069237</td>\n",
       "      <td>0.013340</td>\n",
       "      <td>0.022018</td>\n",
       "      <td>-0.001701</td>\n",
       "      <td>-0.018516</td>\n",
       "      <td>0.020431</td>\n",
       "      <td>0.033350</td>\n",
       "    </tr>\n",
       "    <tr>\n",
       "      <th>Agency_Code</th>\n",
       "      <td>0.067907</td>\n",
       "      <td>1.000000</td>\n",
       "      <td>0.552247</td>\n",
       "      <td>-0.428647</td>\n",
       "      <td>-0.444018</td>\n",
       "      <td>0.022085</td>\n",
       "      <td>-0.065023</td>\n",
       "      <td>-0.184405</td>\n",
       "      <td>-0.379233</td>\n",
       "      <td>0.092274</td>\n",
       "    </tr>\n",
       "    <tr>\n",
       "      <th>Type</th>\n",
       "      <td>-0.005330</td>\n",
       "      <td>0.552247</td>\n",
       "      <td>1.000000</td>\n",
       "      <td>-0.343505</td>\n",
       "      <td>-0.316265</td>\n",
       "      <td>-0.099291</td>\n",
       "      <td>-0.028994</td>\n",
       "      <td>-0.051872</td>\n",
       "      <td>-0.008416</td>\n",
       "      <td>0.317289</td>\n",
       "    </tr>\n",
       "    <tr>\n",
       "      <th>Claimed</th>\n",
       "      <td>-0.069237</td>\n",
       "      <td>-0.428647</td>\n",
       "      <td>-0.343505</td>\n",
       "      <td>1.000000</td>\n",
       "      <td>0.251171</td>\n",
       "      <td>-0.016641</td>\n",
       "      <td>0.155233</td>\n",
       "      <td>0.262351</td>\n",
       "      <td>0.257951</td>\n",
       "      <td>-0.023851</td>\n",
       "    </tr>\n",
       "    <tr>\n",
       "      <th>Commision</th>\n",
       "      <td>0.013340</td>\n",
       "      <td>-0.444018</td>\n",
       "      <td>-0.316265</td>\n",
       "      <td>0.251171</td>\n",
       "      <td>1.000000</td>\n",
       "      <td>0.000445</td>\n",
       "      <td>0.123756</td>\n",
       "      <td>0.377632</td>\n",
       "      <td>0.242530</td>\n",
       "      <td>0.193515</td>\n",
       "    </tr>\n",
       "    <tr>\n",
       "      <th>Channel</th>\n",
       "      <td>0.022018</td>\n",
       "      <td>0.022085</td>\n",
       "      <td>-0.099291</td>\n",
       "      <td>-0.016641</td>\n",
       "      <td>0.000445</td>\n",
       "      <td>1.000000</td>\n",
       "      <td>-0.050103</td>\n",
       "      <td>0.005174</td>\n",
       "      <td>-0.037859</td>\n",
       "      <td>0.035373</td>\n",
       "    </tr>\n",
       "    <tr>\n",
       "      <th>Duration</th>\n",
       "      <td>-0.001701</td>\n",
       "      <td>-0.065023</td>\n",
       "      <td>-0.028994</td>\n",
       "      <td>0.155233</td>\n",
       "      <td>0.123756</td>\n",
       "      <td>-0.050103</td>\n",
       "      <td>1.000000</td>\n",
       "      <td>0.285524</td>\n",
       "      <td>0.196823</td>\n",
       "      <td>0.114207</td>\n",
       "    </tr>\n",
       "    <tr>\n",
       "      <th>Sales</th>\n",
       "      <td>-0.018516</td>\n",
       "      <td>-0.184405</td>\n",
       "      <td>-0.051872</td>\n",
       "      <td>0.262351</td>\n",
       "      <td>0.377632</td>\n",
       "      <td>0.005174</td>\n",
       "      <td>0.285524</td>\n",
       "      <td>1.000000</td>\n",
       "      <td>0.304097</td>\n",
       "      <td>0.361091</td>\n",
       "    </tr>\n",
       "    <tr>\n",
       "      <th>Product Name</th>\n",
       "      <td>0.020431</td>\n",
       "      <td>-0.379233</td>\n",
       "      <td>-0.008416</td>\n",
       "      <td>0.257951</td>\n",
       "      <td>0.242530</td>\n",
       "      <td>-0.037859</td>\n",
       "      <td>0.196823</td>\n",
       "      <td>0.304097</td>\n",
       "      <td>1.000000</td>\n",
       "      <td>0.021528</td>\n",
       "    </tr>\n",
       "    <tr>\n",
       "      <th>Destination</th>\n",
       "      <td>0.033350</td>\n",
       "      <td>0.092274</td>\n",
       "      <td>0.317289</td>\n",
       "      <td>-0.023851</td>\n",
       "      <td>0.193515</td>\n",
       "      <td>0.035373</td>\n",
       "      <td>0.114207</td>\n",
       "      <td>0.361091</td>\n",
       "      <td>0.021528</td>\n",
       "      <td>1.000000</td>\n",
       "    </tr>\n",
       "  </tbody>\n",
       "</table>\n",
       "</div>"
      ],
      "text/plain": [
       "                   Age  Agency_Code      Type   Claimed  Commision   Channel  \\\n",
       "Age           1.000000     0.067907 -0.005330 -0.069237   0.013340  0.022018   \n",
       "Agency_Code   0.067907     1.000000  0.552247 -0.428647  -0.444018  0.022085   \n",
       "Type         -0.005330     0.552247  1.000000 -0.343505  -0.316265 -0.099291   \n",
       "Claimed      -0.069237    -0.428647 -0.343505  1.000000   0.251171 -0.016641   \n",
       "Commision     0.013340    -0.444018 -0.316265  0.251171   1.000000  0.000445   \n",
       "Channel       0.022018     0.022085 -0.099291 -0.016641   0.000445  1.000000   \n",
       "Duration     -0.001701    -0.065023 -0.028994  0.155233   0.123756 -0.050103   \n",
       "Sales        -0.018516    -0.184405 -0.051872  0.262351   0.377632  0.005174   \n",
       "Product Name  0.020431    -0.379233 -0.008416  0.257951   0.242530 -0.037859   \n",
       "Destination   0.033350     0.092274  0.317289 -0.023851   0.193515  0.035373   \n",
       "\n",
       "              Duration     Sales  Product Name  Destination  \n",
       "Age          -0.001701 -0.018516      0.020431     0.033350  \n",
       "Agency_Code  -0.065023 -0.184405     -0.379233     0.092274  \n",
       "Type         -0.028994 -0.051872     -0.008416     0.317289  \n",
       "Claimed       0.155233  0.262351      0.257951    -0.023851  \n",
       "Commision     0.123756  0.377632      0.242530     0.193515  \n",
       "Channel      -0.050103  0.005174     -0.037859     0.035373  \n",
       "Duration      1.000000  0.285524      0.196823     0.114207  \n",
       "Sales         0.285524  1.000000      0.304097     0.361091  \n",
       "Product Name  0.196823  0.304097      1.000000     0.021528  \n",
       "Destination   0.114207  0.361091      0.021528     1.000000  "
      ]
     },
     "execution_count": 34,
     "metadata": {},
     "output_type": "execute_result"
    }
   ],
   "source": [
    "#checking for correlation among the variables\n",
    "corr = df.corr()\n",
    "corr"
   ]
  },
  {
   "cell_type": "code",
   "execution_count": 35,
   "id": "daacc7cf",
   "metadata": {},
   "outputs": [
    {
     "data": {
      "image/png": "[encoded data removed]",
      "text/plain": [
       "<Figure size 720x576 with 2 Axes>"
      ]
     },
     "metadata": {
      "needs_background": "light"
     },
     "output_type": "display_data"
    }
   ],
   "source": [
    "plt.figure(figsize=(10,8))\n",
    "sns.heatmap(corr, annot=True, cmap ='Blues');"
   ]
  },
  {
   "cell_type": "markdown",
   "id": "afb87ab8",
   "metadata": {},
   "source": [
    "We can conclude that there is no strong correlation between any of the variables present in the dataset"
   ]
  },
  {
   "cell_type": "markdown",
   "id": "59869bfe",
   "metadata": {},
   "source": [
    "### 2.2 Data Split: Split the data into test and train, build classification model CART, Random Forest, Artificial Neural Network"
   ]
  },
  {
   "cell_type": "code",
   "execution_count": 36,
   "id": "e93a4562",
   "metadata": {},
   "outputs": [],
   "source": [
    "# import necessary packages\n",
    "from sklearn.model_selection import train_test_split"
   ]
  },
  {
   "cell_type": "code",
   "execution_count": 37,
   "id": "cca44698",
   "metadata": {},
   "outputs": [],
   "source": [
    "x = df.drop('Claimed', axis=1)\n",
    "y = df.pop('Claimed')\n"
   ]
  },
  {
   "cell_type": "code",
   "execution_count": 38,
   "id": "8a5b3b40",
   "metadata": {},
   "outputs": [],
   "source": [
    "##Spliting the data into train and test\n",
    "\n",
    "x_train,x_test,y_train,y_test = train_test_split(x,y, test_size = 0.3,random_state = 1)"
   ]
  },
  {
   "cell_type": "code",
   "execution_count": 39,
   "id": "2d005fc7",
   "metadata": {},
   "outputs": [
    {
     "name": "stdout",
     "output_type": "stream",
     "text": [
      "x_train:  (2100, 9)\n",
      "x_test:  (900, 9)\n",
      "y_train:  (2100,)\n",
      "y_test:  (900,)\n"
     ]
    }
   ],
   "source": [
    "# Checking dimensions on the train and test data\n",
    "\n",
    "print('x_train: ',x_train.shape)\n",
    "print('x_test: ',x_test.shape)\n",
    "print('y_train: ',y_train.shape)\n",
    "print('y_test: ',y_test.shape)"
   ]
  },
  {
   "cell_type": "markdown",
   "id": "0f9ca508",
   "metadata": {},
   "source": [
    "#### Scaling the variables"
   ]
  },
  {
   "cell_type": "code",
   "execution_count": 40,
   "id": "ed51bf3a",
   "metadata": {},
   "outputs": [],
   "source": [
    "from sklearn.preprocessing import StandardScaler"
   ]
  },
  {
   "cell_type": "code",
   "execution_count": 41,
   "id": "89010563",
   "metadata": {},
   "outputs": [],
   "source": [
    "sc = StandardScaler()\n",
    "\n",
    "# Scaling the traing and test data\n",
    "x_train = sc.fit_transform(x_train)\n",
    "x_test = sc.transform(x_test)"
   ]
  },
  {
   "cell_type": "markdown",
   "id": "8306db0e",
   "metadata": {},
   "source": [
    "  #### Building ANN model"
   ]
  },
  {
   "cell_type": "code",
   "execution_count": 42,
   "id": "93b4c9ad",
   "metadata": {},
   "outputs": [],
   "source": [
    "from sklearn.neural_network import MLPClassifier\n",
    "nnclf = MLPClassifier(hidden_layer_sizes=500,max_iter=5000,solver=\"sgd\",verbose=True,random_state=1,\n",
    "                     tol = 0.01)"
   ]
  },
  {
   "cell_type": "code",
   "execution_count": 43,
   "id": "7601209a",
   "metadata": {},
   "outputs": [
    {
     "name": "stdout",
     "output_type": "stream",
     "text": [
      "Iteration 1, loss = 0.66815365\n",
      "Iteration 2, loss = 0.64825642\n",
      "Iteration 3, loss = 0.62614675\n",
      "Iteration 4, loss = 0.60531986\n",
      "Iteration 5, loss = 0.58824747\n",
      "Iteration 6, loss = 0.57429711\n",
      "Iteration 7, loss = 0.56237073\n",
      "Iteration 8, loss = 0.55240826\n",
      "Iteration 9, loss = 0.54368760\n",
      "Iteration 10, loss = 0.53636152\n",
      "Iteration 11, loss = 0.52989460\n",
      "Iteration 12, loss = 0.52452192\n",
      "Iteration 13, loss = 0.51955822\n",
      "Iteration 14, loss = 0.51522522\n",
      "Iteration 15, loss = 0.51139715\n",
      "Iteration 16, loss = 0.50814484\n",
      "Iteration 17, loss = 0.50500359\n",
      "Iteration 18, loss = 0.50235546\n",
      "Training loss did not improve more than tol=0.010000 for 10 consecutive epochs. Stopping.\n"
     ]
    },
    {
     "data": {
      "text/plain": [
       "MLPClassifier(hidden_layer_sizes=500, max_iter=5000, random_state=1,\n",
       "              solver='sgd', tol=0.01, verbose=True)"
      ]
     },
     "execution_count": 43,
     "metadata": {},
     "output_type": "execute_result"
    }
   ],
   "source": [
    "nnclf.fit(x_train,y_train)"
   ]
  },
  {
   "cell_type": "code",
   "execution_count": 44,
   "id": "b27a6e74",
   "metadata": {},
   "outputs": [],
   "source": [
    "y_train_pred = nnclf.predict(x_train)"
   ]
  },
  {
   "cell_type": "code",
   "execution_count": 45,
   "id": "5aa8c7cb",
   "metadata": {},
   "outputs": [
    {
     "data": {
      "text/plain": [
       "array([[1376,   95],\n",
       "       [ 390,  239]], dtype=int64)"
      ]
     },
     "execution_count": 45,
     "metadata": {},
     "output_type": "execute_result"
    }
   ],
   "source": [
    "from sklearn.metrics import confusion_matrix\n",
    "\n",
    "confusion_matrix(y_train,y_train_pred)"
   ]
  },
  {
   "cell_type": "code",
   "execution_count": 46,
   "id": "b40a6852",
   "metadata": {},
   "outputs": [
    {
     "data": {
      "text/plain": [
       "0.7690476190476191"
      ]
     },
     "execution_count": 46,
     "metadata": {},
     "output_type": "execute_result"
    }
   ],
   "source": [
    "nnclf.score(x_train,y_train)"
   ]
  },
  {
   "cell_type": "code",
   "execution_count": 47,
   "id": "ecac1ff5",
   "metadata": {},
   "outputs": [],
   "source": [
    "y_train_pred = nnclf.predict(x_train)"
   ]
  },
  {
   "cell_type": "code",
   "execution_count": 48,
   "id": "169d19f9",
   "metadata": {},
   "outputs": [],
   "source": [
    "### Predicting for the test data and evaluating the performmnace\n",
    "\n",
    "y_pred_test = nnclf.predict(x_test)"
   ]
  },
  {
   "cell_type": "code",
   "execution_count": 49,
   "id": "e31d9b09",
   "metadata": {},
   "outputs": [
    {
     "data": {
      "text/plain": [
       "array([[571,  34],\n",
       "       [202,  93]], dtype=int64)"
      ]
     },
     "execution_count": 49,
     "metadata": {},
     "output_type": "execute_result"
    }
   ],
   "source": [
    "confusion_matrix(y_test,y_pred_test)"
   ]
  },
  {
   "cell_type": "code",
   "execution_count": 50,
   "id": "4044fc0d",
   "metadata": {},
   "outputs": [
    {
     "data": {
      "text/plain": [
       "0.7377777777777778"
      ]
     },
     "execution_count": 50,
     "metadata": {},
     "output_type": "execute_result"
    }
   ],
   "source": [
    "nnclf.score(x_test,y_test)"
   ]
  },
  {
   "cell_type": "code",
   "execution_count": 51,
   "id": "3f13e11b",
   "metadata": {},
   "outputs": [],
   "source": [
    "from sklearn.model_selection import GridSearchCV\n",
    "\n",
    "param_grid = {\n",
    "    \"hidden_layer_sizes\":[100,200,300,500],\n",
    "    \"max_iter\":[2500,3000,7000],\n",
    "    \"solver\":[\"sgd\",\"adam\"],\n",
    "    \"tol\":[0.01]\n",
    "}"
   ]
  },
  {
   "cell_type": "code",
   "execution_count": 52,
   "id": "2f0a66b1",
   "metadata": {},
   "outputs": [],
   "source": [
    "nnclfgds = MLPClassifier(random_state=5)\n",
    "grid_search = GridSearchCV(estimator=nnclfgds,param_grid=param_grid,cv=10)"
   ]
  },
  {
   "cell_type": "code",
   "execution_count": 53,
   "id": "b8c9237b",
   "metadata": {},
   "outputs": [
    {
     "data": {
      "text/plain": [
       "GridSearchCV(cv=10, estimator=MLPClassifier(random_state=5),\n",
       "             param_grid={'hidden_layer_sizes': [100, 200, 300, 500],\n",
       "                         'max_iter': [2500, 3000, 7000],\n",
       "                         'solver': ['sgd', 'adam'], 'tol': [0.01]})"
      ]
     },
     "execution_count": 53,
     "metadata": {},
     "output_type": "execute_result"
    }
   ],
   "source": [
    "grid_search.fit(x_train,y_train)"
   ]
  },
  {
   "cell_type": "code",
   "execution_count": 54,
   "id": "fc9ffbd9",
   "metadata": {},
   "outputs": [
    {
     "data": {
      "text/plain": [
       "{'hidden_layer_sizes': 500, 'max_iter': 2500, 'solver': 'adam', 'tol': 0.01}"
      ]
     },
     "execution_count": 54,
     "metadata": {},
     "output_type": "execute_result"
    }
   ],
   "source": [
    "grid_search.best_params_"
   ]
  },
  {
   "cell_type": "code",
   "execution_count": 55,
   "id": "a20e7ede",
   "metadata": {},
   "outputs": [],
   "source": [
    "best_grid = grid_search.best_estimator_"
   ]
  },
  {
   "cell_type": "code",
   "execution_count": 56,
   "id": "b40b76b1",
   "metadata": {},
   "outputs": [
    {
     "data": {
      "text/plain": [
       "MLPClassifier(hidden_layer_sizes=500, max_iter=2500, random_state=5, tol=0.01)"
      ]
     },
     "execution_count": 56,
     "metadata": {},
     "output_type": "execute_result"
    }
   ],
   "source": [
    "best_grid"
   ]
  },
  {
   "cell_type": "code",
   "execution_count": 57,
   "id": "3cf346fb",
   "metadata": {},
   "outputs": [],
   "source": [
    "nnclf = MLPClassifier(hidden_layer_sizes=500,max_iter=2500,solver=\"adam\",verbose=True,random_state=5,\n",
    "                     tol = 0.01)"
   ]
  },
  {
   "cell_type": "code",
   "execution_count": 58,
   "id": "edcee9a9",
   "metadata": {},
   "outputs": [
    {
     "name": "stdout",
     "output_type": "stream",
     "text": [
      "Iteration 1, loss = 0.65539956\n",
      "Iteration 2, loss = 0.52626681\n",
      "Iteration 3, loss = 0.48356388\n",
      "Iteration 4, loss = 0.47455527\n",
      "Iteration 5, loss = 0.47092165\n",
      "Iteration 6, loss = 0.46962416\n",
      "Iteration 7, loss = 0.46729607\n",
      "Iteration 8, loss = 0.46584411\n",
      "Iteration 9, loss = 0.46431590\n",
      "Iteration 10, loss = 0.46355682\n",
      "Iteration 11, loss = 0.46215791\n",
      "Iteration 12, loss = 0.46150519\n",
      "Iteration 13, loss = 0.46053724\n",
      "Iteration 14, loss = 0.45933236\n",
      "Training loss did not improve more than tol=0.010000 for 10 consecutive epochs. Stopping.\n"
     ]
    },
    {
     "data": {
      "text/plain": [
       "MLPClassifier(hidden_layer_sizes=500, max_iter=2500, random_state=5, tol=0.01,\n",
       "              verbose=True)"
      ]
     },
     "execution_count": 58,
     "metadata": {},
     "output_type": "execute_result"
    }
   ],
   "source": [
    "nnclf.fit(x_train,y_train)"
   ]
  },
  {
   "cell_type": "code",
   "execution_count": 59,
   "id": "7137dc8d",
   "metadata": {},
   "outputs": [],
   "source": [
    "y_train_pred = nnclf.predict(x_train)"
   ]
  },
  {
   "cell_type": "code",
   "execution_count": 60,
   "id": "87a93dd5",
   "metadata": {},
   "outputs": [
    {
     "data": {
      "text/plain": [
       "array([[1313,  158],\n",
       "       [ 299,  330]], dtype=int64)"
      ]
     },
     "execution_count": 60,
     "metadata": {},
     "output_type": "execute_result"
    }
   ],
   "source": [
    "confusion_matrix(y_train,y_train_pred)"
   ]
  },
  {
   "cell_type": "code",
   "execution_count": 61,
   "id": "c13b07d9",
   "metadata": {},
   "outputs": [
    {
     "data": {
      "text/plain": [
       "0.7823809523809524"
      ]
     },
     "execution_count": 61,
     "metadata": {},
     "output_type": "execute_result"
    }
   ],
   "source": [
    "nnclf.score(x_train, y_train)"
   ]
  },
  {
   "cell_type": "code",
   "execution_count": 127,
   "id": "d6805c2b",
   "metadata": {},
   "outputs": [
    {
     "data": {
      "text/plain": [
       "0.7633333333333333"
      ]
     },
     "execution_count": 127,
     "metadata": {},
     "output_type": "execute_result"
    }
   ],
   "source": [
    "nnclf.score(x_test,y_test)"
   ]
  },
  {
   "cell_type": "markdown",
   "id": "8a8102f2",
   "metadata": {},
   "source": [
    "As, we can see that even after changing the best parameter model performance didn't improve that great."
   ]
  },
  {
   "cell_type": "markdown",
   "id": "602718b2",
   "metadata": {},
   "source": [
    "#### Decision Tree classifier"
   ]
  },
  {
   "cell_type": "code",
   "execution_count": 62,
   "id": "5380ccf0",
   "metadata": {},
   "outputs": [],
   "source": [
    "from sklearn import tree\n",
    "from sklearn.tree import DecisionTreeClassifier"
   ]
  },
  {
   "cell_type": "code",
   "execution_count": 63,
   "id": "4f4cf990",
   "metadata": {},
   "outputs": [],
   "source": [
    "param_grid_dtcl = {\n",
    "    'criterion': ['gini'],\n",
    "    'max_depth': [10,20,30,50],\n",
    "    'min_samples_leaf': [50,100,150], \n",
    "    'min_samples_split': [150,300,450],\n",
    "}\n",
    "\n",
    "dtcl = DecisionTreeClassifier(random_state=1)\n",
    "\n",
    "grid_search_dtcl = GridSearchCV(estimator = dtcl, param_grid = param_grid_dtcl, cv = 10)"
   ]
  },
  {
   "cell_type": "code",
   "execution_count": 64,
   "id": "26169736",
   "metadata": {},
   "outputs": [
    {
     "name": "stdout",
     "output_type": "stream",
     "text": [
      "{'criterion': 'gini', 'max_depth': 10, 'min_samples_leaf': 50, 'min_samples_split': 150}\n"
     ]
    },
    {
     "data": {
      "text/plain": [
       "DecisionTreeClassifier(max_depth=10, min_samples_leaf=50, min_samples_split=150,\n",
       "                       random_state=1)"
      ]
     },
     "execution_count": 64,
     "metadata": {},
     "output_type": "execute_result"
    }
   ],
   "source": [
    "grid_search_dtcl.fit(x_train, y_train)\n",
    "print(grid_search_dtcl.best_params_)\n",
    "best_grid_dtcl = grid_search_dtcl.best_estimator_\n",
    "best_grid_dtcl"
   ]
  },
  {
   "cell_type": "code",
   "execution_count": 65,
   "id": "c8179198",
   "metadata": {},
   "outputs": [],
   "source": [
    "train_char_label = ['no', 'yes']\n",
    "tree_regularized = open('tree_regularized.dot','w')\n",
    "dot_data = tree.export_graphviz(best_grid_dtcl, out_file= tree_regularized ,\n",
    "                                feature_names = ['Age', 'Agency_Code', 'Type', 'Commision', 'Channel', 'Duration',\n",
    "                                                 'Sales', 'Product Name', 'Destination'],\n",
    "                                class_names = list(train_char_label))\n",
    "\n",
    "tree_regularized.close()\n",
    "dot_data"
   ]
  },
  {
   "cell_type": "markdown",
   "id": "d0ac2dec",
   "metadata": {},
   "source": [
    "http://www.webgraphviz.com/?tab=map"
   ]
  },
  {
   "cell_type": "markdown",
   "id": "286d9aa0",
   "metadata": {},
   "source": [
    "Based on the graphviz, we can change various parameters such as max_depth and build a regularised decision tree model"
   ]
  },
  {
   "cell_type": "code",
   "execution_count": 66,
   "id": "151e60e0",
   "metadata": {},
   "outputs": [],
   "source": [
    "reg_dtcl = DecisionTreeClassifier(criterion='gini', max_depth=4, min_samples_leaf=50, min_samples_split=150)"
   ]
  },
  {
   "cell_type": "code",
   "execution_count": 67,
   "id": "c52777cc",
   "metadata": {},
   "outputs": [
    {
     "data": {
      "text/plain": [
       "DecisionTreeClassifier(max_depth=4, min_samples_leaf=50, min_samples_split=150)"
      ]
     },
     "execution_count": 67,
     "metadata": {},
     "output_type": "execute_result"
    }
   ],
   "source": [
    "reg_dtcl.fit(x_train, y_train)"
   ]
  },
  {
   "cell_type": "code",
   "execution_count": 68,
   "id": "ed1f310f",
   "metadata": {},
   "outputs": [],
   "source": [
    "train_char_label = ['no', 'yes']\n",
    "tree_regularized = open('tree_regularized.dot','w')\n",
    "dot_data = tree.export_graphviz(reg_dtcl, out_file= tree_regularized ,\n",
    "                                feature_names = ['Age', 'Agency_Code', 'Type', 'Commision', 'Channel', 'Duration',\n",
    "                                                 'Sales', 'Product Name', 'Destination'],\n",
    "                                class_names = list(train_char_label))\n",
    "\n",
    "tree_regularized.close()\n",
    "dot_data"
   ]
  },
  {
   "cell_type": "markdown",
   "id": "b32b591f",
   "metadata": {},
   "source": [
    "http://www.webgraphviz.com/?tab=map"
   ]
  },
  {
   "cell_type": "code",
   "execution_count": 69,
   "id": "112009ba",
   "metadata": {},
   "outputs": [
    {
     "data": {
      "text/plain": [
       "array([0.01890129, 0.62304008, 0.00770847, 0.01317639, 0.        ,\n",
       "       0.02152713, 0.25816261, 0.05748403, 0.        ])"
      ]
     },
     "execution_count": 69,
     "metadata": {},
     "output_type": "execute_result"
    }
   ],
   "source": [
    "reg_dtcl.feature_importances_"
   ]
  },
  {
   "cell_type": "code",
   "execution_count": 70,
   "id": "d5e72e68",
   "metadata": {},
   "outputs": [
    {
     "name": "stdout",
     "output_type": "stream",
     "text": [
      "              Importance\n",
      "Age             0.018901\n",
      "Agency_Code     0.623040\n",
      "Type            0.007708\n",
      "Commision       0.013176\n",
      "Channel         0.000000\n",
      "Duration        0.021527\n",
      "Sales           0.258163\n",
      "Product Name    0.057484\n",
      "Destination     0.000000\n"
     ]
    }
   ],
   "source": [
    "print(pd.DataFrame(reg_dtcl.feature_importances_, columns = [\"Importance\"], index = ['Age', 'Agency_Code', 'Type', 'Commision', 'Channel', 'Duration',\n",
    "                                                 'Sales', 'Product Name', 'Destination']))"
   ]
  },
  {
   "cell_type": "code",
   "execution_count": 71,
   "id": "78d45033",
   "metadata": {},
   "outputs": [],
   "source": [
    "ytrain_predict_dtcl = reg_dtcl.predict(x_train)\n",
    "ytest_predict_dtcl = reg_dtcl.predict(x_test)"
   ]
  },
  {
   "cell_type": "code",
   "execution_count": 72,
   "id": "a4fa2c91",
   "metadata": {},
   "outputs": [
    {
     "data": {
      "text/html": [
       "<div>\n",
       "<style scoped>\n",
       "    .dataframe tbody tr th:only-of-type {\n",
       "        vertical-align: middle;\n",
       "    }\n",
       "\n",
       "    .dataframe tbody tr th {\n",
       "        vertical-align: top;\n",
       "    }\n",
       "\n",
       "    .dataframe thead th {\n",
       "        text-align: right;\n",
       "    }\n",
       "</style>\n",
       "<table border=\"1\" class=\"dataframe\">\n",
       "  <thead>\n",
       "    <tr style=\"text-align: right;\">\n",
       "      <th></th>\n",
       "      <th>0</th>\n",
       "      <th>1</th>\n",
       "    </tr>\n",
       "  </thead>\n",
       "  <tbody>\n",
       "    <tr>\n",
       "      <th>0</th>\n",
       "      <td>0.827206</td>\n",
       "      <td>0.172794</td>\n",
       "    </tr>\n",
       "    <tr>\n",
       "      <th>1</th>\n",
       "      <td>0.717811</td>\n",
       "      <td>0.282189</td>\n",
       "    </tr>\n",
       "    <tr>\n",
       "      <th>2</th>\n",
       "      <td>0.500347</td>\n",
       "      <td>0.499653</td>\n",
       "    </tr>\n",
       "    <tr>\n",
       "      <th>3</th>\n",
       "      <td>0.273151</td>\n",
       "      <td>0.726849</td>\n",
       "    </tr>\n",
       "    <tr>\n",
       "      <th>4</th>\n",
       "      <td>0.915778</td>\n",
       "      <td>0.084222</td>\n",
       "    </tr>\n",
       "  </tbody>\n",
       "</table>\n",
       "</div>"
      ],
      "text/plain": [
       "          0         1\n",
       "0  0.827206  0.172794\n",
       "1  0.717811  0.282189\n",
       "2  0.500347  0.499653\n",
       "3  0.273151  0.726849\n",
       "4  0.915778  0.084222"
      ]
     },
     "execution_count": 72,
     "metadata": {},
     "output_type": "execute_result"
    }
   ],
   "source": [
    "ytest_predict_dtcl\n",
    "ytest_predict_dtcl_prob=best_grid.predict_proba(x_test)\n",
    "ytest_predict_dtcl_prob\n",
    "pd.DataFrame(ytest_predict_dtcl_prob).head()"
   ]
  },
  {
   "cell_type": "markdown",
   "id": "c384f818",
   "metadata": {},
   "source": [
    "#### Random forest Classification"
   ]
  },
  {
   "cell_type": "code",
   "execution_count": 73,
   "id": "bbd472d6",
   "metadata": {},
   "outputs": [],
   "source": [
    "from sklearn.ensemble import RandomForestClassifier"
   ]
  },
  {
   "cell_type": "code",
   "execution_count": 129,
   "id": "f945e681",
   "metadata": {},
   "outputs": [],
   "source": [
    "rfcl = RandomForestClassifier(n_estimators=501, oob_score=True, max_depth=4, \n",
    "                              max_features=5, min_samples_leaf= 50, min_samples_split=120, random_state=1)"
   ]
  },
  {
   "cell_type": "code",
   "execution_count": 130,
   "id": "8b6a3c46",
   "metadata": {},
   "outputs": [],
   "source": [
    "rfcl = rfcl.fit(x_train, y_train)"
   ]
  },
  {
   "cell_type": "code",
   "execution_count": 131,
   "id": "c0c0bb04",
   "metadata": {},
   "outputs": [
    {
     "data": {
      "text/plain": [
       "0.7814285714285715"
      ]
     },
     "execution_count": 131,
     "metadata": {},
     "output_type": "execute_result"
    }
   ],
   "source": [
    "rfcl.oob_score_"
   ]
  },
  {
   "cell_type": "markdown",
   "id": "222d7c8a",
   "metadata": {},
   "source": [
    "Looking at the oob score, the error rate is 22%."
   ]
  },
  {
   "cell_type": "code",
   "execution_count": 132,
   "id": "55980999",
   "metadata": {},
   "outputs": [],
   "source": [
    "rfcl = RandomForestClassifier(n_estimators=401, oob_score=True, max_depth=5, \n",
    "                              max_features=3, min_samples_leaf= 60, min_samples_split=180, random_state=1)"
   ]
  },
  {
   "cell_type": "code",
   "execution_count": 133,
   "id": "13baa5a8",
   "metadata": {},
   "outputs": [],
   "source": [
    "rfcl = rfcl.fit(x_train, y_train)"
   ]
  },
  {
   "cell_type": "code",
   "execution_count": 134,
   "id": "b8b64ca3",
   "metadata": {},
   "outputs": [
    {
     "data": {
      "text/plain": [
       "0.7814285714285715"
      ]
     },
     "execution_count": 134,
     "metadata": {},
     "output_type": "execute_result"
    }
   ],
   "source": [
    "rfcl.oob_score_"
   ]
  },
  {
   "cell_type": "code",
   "execution_count": 135,
   "id": "2d85585f",
   "metadata": {},
   "outputs": [],
   "source": [
    "rfcl = RandomForestClassifier(n_estimators=601, oob_score=True, max_depth=7, \n",
    "                              max_features=7, min_samples_leaf= 30, min_samples_split=90, random_state=1)"
   ]
  },
  {
   "cell_type": "code",
   "execution_count": 136,
   "id": "97bc40e5",
   "metadata": {},
   "outputs": [],
   "source": [
    "rfcl = rfcl.fit(x_train, y_train)"
   ]
  },
  {
   "cell_type": "code",
   "execution_count": 137,
   "id": "1172c96b",
   "metadata": {},
   "outputs": [
    {
     "data": {
      "text/plain": [
       "0.7866666666666666"
      ]
     },
     "execution_count": 137,
     "metadata": {},
     "output_type": "execute_result"
    }
   ],
   "source": [
    "rfcl.oob_score_"
   ]
  },
  {
   "cell_type": "markdown",
   "id": "7cb8b2dc",
   "metadata": {},
   "source": [
    "After working on the parameters with different values, it is evident that there is no big change in the performance of the model."
   ]
  },
  {
   "cell_type": "code",
   "execution_count": 138,
   "id": "f9563b83",
   "metadata": {},
   "outputs": [],
   "source": [
    "# lets us use the gridsearch cv to find better parameter values\n",
    "\n",
    "param_grid_rfcl = {\n",
    "    'max_depth': [4,5],\n",
    "    'max_features': [2,3],\n",
    "    'min_samples_leaf': [5,10],\n",
    "    'min_samples_split': [15,30],\n",
    "    'n_estimators': [250,350] \n",
    "}\n"
   ]
  },
  {
   "cell_type": "code",
   "execution_count": 139,
   "id": "fc9a3951",
   "metadata": {},
   "outputs": [],
   "source": [
    "rfcl = RandomForestClassifier()"
   ]
  },
  {
   "cell_type": "code",
   "execution_count": 140,
   "id": "7de01685",
   "metadata": {},
   "outputs": [],
   "source": [
    "grid_search_rfcl = GridSearchCV(estimator=rfcl, param_grid=param_grid_rfcl, cv =2)"
   ]
  },
  {
   "cell_type": "code",
   "execution_count": 141,
   "id": "3dd2d1ea",
   "metadata": {},
   "outputs": [
    {
     "data": {
      "text/plain": [
       "GridSearchCV(cv=2, estimator=RandomForestClassifier(),\n",
       "             param_grid={'max_depth': [4, 5], 'max_features': [2, 3],\n",
       "                         'min_samples_leaf': [5, 10],\n",
       "                         'min_samples_split': [15, 30],\n",
       "                         'n_estimators': [250, 350]})"
      ]
     },
     "execution_count": 141,
     "metadata": {},
     "output_type": "execute_result"
    }
   ],
   "source": [
    "grid_search_rfcl.fit(x_train, y_train)"
   ]
  },
  {
   "cell_type": "code",
   "execution_count": 142,
   "id": "226f7f64",
   "metadata": {},
   "outputs": [
    {
     "data": {
      "text/plain": [
       "{'max_depth': 5,\n",
       " 'max_features': 3,\n",
       " 'min_samples_leaf': 5,\n",
       " 'min_samples_split': 15,\n",
       " 'n_estimators': 250}"
      ]
     },
     "execution_count": 142,
     "metadata": {},
     "output_type": "execute_result"
    }
   ],
   "source": [
    "grid_search_rfcl.best_params_"
   ]
  },
  {
   "cell_type": "code",
   "execution_count": 143,
   "id": "e10ad5e3",
   "metadata": {},
   "outputs": [
    {
     "data": {
      "text/plain": [
       "RandomForestClassifier(max_depth=5, max_features=3, min_samples_leaf=5,\n",
       "                       min_samples_split=15, n_estimators=250)"
      ]
     },
     "execution_count": 143,
     "metadata": {},
     "output_type": "execute_result"
    }
   ],
   "source": [
    "grid_search_rfcl.best_estimator_"
   ]
  },
  {
   "cell_type": "code",
   "execution_count": 144,
   "id": "b84ebc89",
   "metadata": {},
   "outputs": [],
   "source": [
    "rfcl = RandomForestClassifier(max_depth=5, max_features=3, min_samples_leaf=10,\n",
    "                       min_samples_split=15, n_estimators=250, random_state =1)\n"
   ]
  },
  {
   "cell_type": "code",
   "execution_count": 145,
   "id": "6d28b20f",
   "metadata": {},
   "outputs": [
    {
     "data": {
      "text/plain": [
       "RandomForestClassifier(max_depth=5, max_features=3, min_samples_leaf=10,\n",
       "                       min_samples_split=15, n_estimators=250, random_state=1)"
      ]
     },
     "execution_count": 145,
     "metadata": {},
     "output_type": "execute_result"
    }
   ],
   "source": [
    "rfcl.fit(x_train,y_train)"
   ]
  },
  {
   "cell_type": "code",
   "execution_count": 146,
   "id": "f5343a1e",
   "metadata": {},
   "outputs": [
    {
     "data": {
      "text/plain": [
       "array([0, 0, 1, ..., 0, 0, 1], dtype=int8)"
      ]
     },
     "execution_count": 146,
     "metadata": {},
     "output_type": "execute_result"
    }
   ],
   "source": [
    "y_train_predict_rfcl = rfcl.predict(x_train)\n",
    "y_test_predict_rfcl = rfcl.predict(x_test)\n",
    "y_train_predict_rfcl"
   ]
  },
  {
   "cell_type": "code",
   "execution_count": 164,
   "id": "1c122157",
   "metadata": {},
   "outputs": [
    {
     "data": {
      "text/plain": [
       "array([0.04725414, 0.28564471, 0.0785789 , 0.13165146, 0.00110345,\n",
       "       0.05519986, 0.15955682, 0.23098013, 0.01003052])"
      ]
     },
     "execution_count": 164,
     "metadata": {},
     "output_type": "execute_result"
    }
   ],
   "source": [
    "rfcl.feature_importances_"
   ]
  },
  {
   "cell_type": "code",
   "execution_count": 165,
   "id": "bde6066f",
   "metadata": {},
   "outputs": [
    {
     "name": "stdout",
     "output_type": "stream",
     "text": [
      "              Importance\n",
      "Age             0.047254\n",
      "Agency_Code     0.285645\n",
      "Type            0.078579\n",
      "Commision       0.131651\n",
      "Channel         0.001103\n",
      "Duration        0.055200\n",
      "Sales           0.159557\n",
      "Product Name    0.230980\n",
      "Destination     0.010031\n"
     ]
    }
   ],
   "source": [
    "print(pd.DataFrame(rfcl.feature_importances_, columns = [\"Importance\"], index = ['Age', 'Agency_Code', 'Type', 'Commision', 'Channel', 'Duration',\n",
    "                                                 'Sales', 'Product Name', 'Destination']))"
   ]
  },
  {
   "cell_type": "markdown",
   "id": "252494ff",
   "metadata": {},
   "source": [
    "### 2.3 Performance Metrics: Comment and Check the performance of Predictions on Train and Test sets using Accuracy, Confusion Matrix, Plot ROC curve and get ROC_AUC score, classification reports for each model. "
   ]
  },
  {
   "cell_type": "markdown",
   "id": "996ae1da",
   "metadata": {},
   "source": [
    "#### ANN"
   ]
  },
  {
   "cell_type": "code",
   "execution_count": 92,
   "id": "f5509eda",
   "metadata": {},
   "outputs": [],
   "source": [
    "# First, let us import all the necessary packages\n",
    "\n",
    "from sklearn.metrics import accuracy_score, confusion_matrix, classification_report, roc_curve, roc_auc_score"
   ]
  },
  {
   "cell_type": "markdown",
   "id": "dfa1d200",
   "metadata": {},
   "source": [
    "##### Let us evaluate model performs on training data first and then the test data "
   ]
  },
  {
   "cell_type": "code",
   "execution_count": 93,
   "id": "813cd8ec",
   "metadata": {
    "scrolled": true
   },
   "outputs": [
    {
     "name": "stdout",
     "output_type": "stream",
     "text": [
      "Iteration 1, loss = 0.65539956\n",
      "Iteration 2, loss = 0.52626681\n",
      "Iteration 3, loss = 0.48356388\n",
      "Iteration 4, loss = 0.47455527\n",
      "Iteration 5, loss = 0.47092165\n",
      "Iteration 6, loss = 0.46962416\n",
      "Iteration 7, loss = 0.46729607\n",
      "Iteration 8, loss = 0.46584411\n",
      "Iteration 9, loss = 0.46431590\n",
      "Iteration 10, loss = 0.46355682\n",
      "Iteration 11, loss = 0.46215791\n",
      "Iteration 12, loss = 0.46150519\n",
      "Iteration 13, loss = 0.46053724\n",
      "Iteration 14, loss = 0.45933236\n",
      "Training loss did not improve more than tol=0.010000 for 10 consecutive epochs. Stopping.\n"
     ]
    },
    {
     "data": {
      "text/plain": [
       "MLPClassifier(hidden_layer_sizes=500, max_iter=2500, random_state=5, tol=0.01,\n",
       "              verbose=True)"
      ]
     },
     "execution_count": 93,
     "metadata": {},
     "output_type": "execute_result"
    }
   ],
   "source": [
    "nnclf.fit(x_train, y_train)"
   ]
  },
  {
   "cell_type": "code",
   "execution_count": 94,
   "id": "c5146e34",
   "metadata": {},
   "outputs": [],
   "source": [
    "y_train_predict_nnclf = nnclf.predict(x_train)"
   ]
  },
  {
   "cell_type": "code",
   "execution_count": 95,
   "id": "e3c37a6e",
   "metadata": {},
   "outputs": [
    {
     "data": {
      "text/plain": [
       "0.7823809523809524"
      ]
     },
     "execution_count": 95,
     "metadata": {},
     "output_type": "execute_result"
    }
   ],
   "source": [
    "nnclf.score(x_train,y_train)"
   ]
  },
  {
   "cell_type": "code",
   "execution_count": 96,
   "id": "1ae4dc67",
   "metadata": {},
   "outputs": [
    {
     "name": "stdout",
     "output_type": "stream",
     "text": [
      "[[1313  158]\n",
      " [ 299  330]]\n"
     ]
    }
   ],
   "source": [
    "#confusion matrix for the train data\n",
    "\n",
    "cm_train_nnclf = confusion_matrix(y_train, y_train_predict_nnclf)\n",
    "print(cm_train_nnclf)"
   ]
  },
  {
   "cell_type": "code",
   "execution_count": 97,
   "id": "83031564",
   "metadata": {},
   "outputs": [
    {
     "name": "stdout",
     "output_type": "stream",
     "text": [
      "Accuracy for ANN model is \n",
      " 0.7823809523809524\n",
      "\n",
      "\n",
      "Classification report for ANN model is \n",
      "               precision    recall  f1-score   support\n",
      "\n",
      "           0       0.81      0.89      0.85      1471\n",
      "           1       0.68      0.52      0.59       629\n",
      "\n",
      "    accuracy                           0.78      2100\n",
      "   macro avg       0.75      0.71      0.72      2100\n",
      "weighted avg       0.77      0.78      0.77      2100\n",
      "\n",
      "\n",
      "\n",
      "Confusion Matrix for ANN model is\n"
     ]
    },
    {
     "data": {
      "image/png": "[encoded data removed]",
      "text/plain": [
       "<Figure size 432x288 with 1 Axes>"
      ]
     },
     "metadata": {
      "needs_background": "light"
     },
     "output_type": "display_data"
    }
   ],
   "source": [
    "models_names={nnclf:'ANN'}\n",
    "\n",
    "print('Accuracy for {} model is'.format(models_names[nnclf]),'\\n',accuracy_score(y_train,y_train_predict_nnclf))\n",
    "print('\\n')\n",
    "print('Classification report for {} model is'.format(models_names[nnclf]),'\\n',classification_report(y_train,y_train_predict_nnclf))\n",
    "print('\\n')\n",
    "print('Confusion Matrix for {} model is'.format(models_names[nnclf]))\n",
    "sns.heatmap(cm_train_nnclf,annot=True,fmt='d',cbar=False)\n",
    "plt.title('Confusion Matrix for {}'.format(models_names[nnclf]))\n",
    "plt.xlabel('Predicted Label')\n",
    "plt.ylabel('Actual Label')\n",
    "plt.show()"
   ]
  },
  {
   "cell_type": "code",
   "execution_count": 98,
   "id": "e70bb51b",
   "metadata": {},
   "outputs": [
    {
     "name": "stdout",
     "output_type": "stream",
     "text": [
      "AUC: 0.827\n"
     ]
    },
    {
     "data": {
      "image/png": "[encoded data removed]",
      "text/plain": [
       "<Figure size 432x288 with 1 Axes>"
      ]
     },
     "metadata": {
      "needs_background": "light"
     },
     "output_type": "display_data"
    }
   ],
   "source": [
    "# let us see the roc curve and the roc_auc_score for train data\n",
    "\n",
    "# predict probabilities\n",
    "probs = nnclf.predict_proba(x_train)\n",
    "# keep probabilities for the positive outcome only\n",
    "probs = probs[:, 1]\n",
    "# calculate AUC\n",
    "auc_train_ann = roc_auc_score(y_train, probs)\n",
    "print('AUC: %.3f' % auc_train_ann)\n",
    "# calculate roc curve\n",
    "fpr, tpr, thresholds = roc_curve(y_train, probs)\n",
    "plt.plot([0, 1], [0, 1], linestyle='--')\n",
    "# plot the roc curve for the model\n",
    "plt.plot(fpr, tpr, marker='.')\n",
    "# show the plot\n",
    "plt.show()"
   ]
  },
  {
   "cell_type": "markdown",
   "id": "e38fc830",
   "metadata": {},
   "source": [
    "#### Let us look at how the ANN model performs on test data"
   ]
  },
  {
   "cell_type": "code",
   "execution_count": 99,
   "id": "fe3aa5f5",
   "metadata": {},
   "outputs": [],
   "source": [
    "y_test_predict_nnclf = nnclf.predict(x_test)"
   ]
  },
  {
   "cell_type": "code",
   "execution_count": 100,
   "id": "27989585",
   "metadata": {},
   "outputs": [
    {
     "data": {
      "text/plain": [
       "0.7633333333333333"
      ]
     },
     "execution_count": 100,
     "metadata": {},
     "output_type": "execute_result"
    }
   ],
   "source": [
    "nnclf.score(x_test,y_test)"
   ]
  },
  {
   "cell_type": "code",
   "execution_count": 101,
   "id": "c19dee7b",
   "metadata": {},
   "outputs": [
    {
     "name": "stdout",
     "output_type": "stream",
     "text": [
      "[[556  49]\n",
      " [164 131]]\n"
     ]
    }
   ],
   "source": [
    "#confusion matrix for the test data\n",
    "\n",
    "cm_test_nnclf = confusion_matrix(y_test, y_test_predict_nnclf)\n",
    "print(cm_test_nnclf)"
   ]
  },
  {
   "cell_type": "code",
   "execution_count": 102,
   "id": "551c5feb",
   "metadata": {},
   "outputs": [
    {
     "name": "stdout",
     "output_type": "stream",
     "text": [
      "Accuracy for ANN model is \n",
      " 0.7633333333333333\n",
      "\n",
      "\n",
      "Classification report for ANN model is \n",
      "               precision    recall  f1-score   support\n",
      "\n",
      "           0       0.77      0.92      0.84       605\n",
      "           1       0.73      0.44      0.55       295\n",
      "\n",
      "    accuracy                           0.76       900\n",
      "   macro avg       0.75      0.68      0.70       900\n",
      "weighted avg       0.76      0.76      0.74       900\n",
      "\n",
      "\n",
      "\n",
      "Confusion Matrix for ANN model is\n"
     ]
    },
    {
     "data": {
      "image/png": "[encoded data removed]",
      "text/plain": [
       "<Figure size 432x288 with 1 Axes>"
      ]
     },
     "metadata": {
      "needs_background": "light"
     },
     "output_type": "display_data"
    }
   ],
   "source": [
    "models_names={nnclf:'ANN'}\n",
    "\n",
    "print('Accuracy for {} model is'.format(models_names[nnclf]),'\\n',accuracy_score(y_test,y_test_predict_nnclf))\n",
    "print('\\n')\n",
    "print('Classification report for {} model is'.format(models_names[nnclf]),'\\n',classification_report(y_test,y_test_predict_nnclf))\n",
    "print('\\n')\n",
    "print('Confusion Matrix for {} model is'.format(models_names[nnclf]))\n",
    "sns.heatmap(cm_test_nnclf,annot=True,fmt='d',cbar=False)\n",
    "plt.title('Confusion Matrix for {}'.format(models_names[nnclf]))\n",
    "plt.xlabel('Predicted Label')\n",
    "plt.ylabel('Actual Label')\n",
    "plt.show()"
   ]
  },
  {
   "cell_type": "code",
   "execution_count": 103,
   "id": "8a6a3820",
   "metadata": {},
   "outputs": [
    {
     "name": "stdout",
     "output_type": "stream",
     "text": [
      "AUC: 0.809\n"
     ]
    },
    {
     "data": {
      "image/png": "[encoded data removed]",
      "text/plain": [
       "<Figure size 432x288 with 1 Axes>"
      ]
     },
     "metadata": {
      "needs_background": "light"
     },
     "output_type": "display_data"
    }
   ],
   "source": [
    "# let us see the roc curve and the roc_auc_score for test data\n",
    "\n",
    "# predict probabilities\n",
    "probs = nnclf.predict_proba(x_test)\n",
    "# keep probabilities for the positive outcome only\n",
    "probs = probs[:, 1]\n",
    "# calculate AUC\n",
    "auc_test_ann = roc_auc_score(y_test, probs)\n",
    "print('AUC: %.3f' % auc_test_ann)\n",
    "# calculate roc curve\n",
    "fpr, tpr, thresholds = roc_curve(y_test, probs)\n",
    "plt.plot([0, 1], [0, 1], linestyle='--')\n",
    "# plot the roc curve for the model\n",
    "plt.plot(fpr, tpr, marker='.')\n",
    "# show the plot\n",
    "plt.show()"
   ]
  },
  {
   "cell_type": "markdown",
   "id": "8b85717d",
   "metadata": {},
   "source": [
    "##### Decision Tree"
   ]
  },
  {
   "cell_type": "code",
   "execution_count": 104,
   "id": "1be0e2f3",
   "metadata": {},
   "outputs": [
    {
     "data": {
      "text/plain": [
       "DecisionTreeClassifier(random_state=1)"
      ]
     },
     "execution_count": 104,
     "metadata": {},
     "output_type": "execute_result"
    }
   ],
   "source": [
    "dtcl.fit(x_train, y_train)"
   ]
  },
  {
   "cell_type": "code",
   "execution_count": 105,
   "id": "825eac1d",
   "metadata": {},
   "outputs": [],
   "source": [
    "y_train_predict_dtcl = dtcl.predict(x_train)"
   ]
  },
  {
   "cell_type": "code",
   "execution_count": 106,
   "id": "de6e0b94",
   "metadata": {},
   "outputs": [
    {
     "data": {
      "text/plain": [
       "0.9828571428571429"
      ]
     },
     "execution_count": 106,
     "metadata": {},
     "output_type": "execute_result"
    }
   ],
   "source": [
    "dtcl.score(x_train,y_train)"
   ]
  },
  {
   "cell_type": "code",
   "execution_count": 107,
   "id": "576301d8",
   "metadata": {},
   "outputs": [
    {
     "name": "stdout",
     "output_type": "stream",
     "text": [
      "[[1453   18]\n",
      " [  18  611]]\n"
     ]
    }
   ],
   "source": [
    "#confusion matrix for the train data\n",
    "\n",
    "cm_train_dtcl = confusion_matrix(y_train, y_train_predict_dtcl)\n",
    "print(cm_train_dtcl)"
   ]
  },
  {
   "cell_type": "code",
   "execution_count": 108,
   "id": "2e1b458e",
   "metadata": {},
   "outputs": [
    {
     "name": "stdout",
     "output_type": "stream",
     "text": [
      "Accuracy for DECISION TREE CLASSIFIER model is \n",
      " 0.9828571428571429\n",
      "\n",
      "\n",
      "Classification report for DECISION TREE CLASSIFIER model is \n",
      "               precision    recall  f1-score   support\n",
      "\n",
      "           0       0.99      0.99      0.99      1471\n",
      "           1       0.97      0.97      0.97       629\n",
      "\n",
      "    accuracy                           0.98      2100\n",
      "   macro avg       0.98      0.98      0.98      2100\n",
      "weighted avg       0.98      0.98      0.98      2100\n",
      "\n",
      "\n",
      "\n",
      "Confusion Matrix for DECISION TREE CLASSIFIER model is\n"
     ]
    },
    {
     "data": {
      "image/png": "[encoded data removed]",
      "text/plain": [
       "<Figure size 432x288 with 1 Axes>"
      ]
     },
     "metadata": {
      "needs_background": "light"
     },
     "output_type": "display_data"
    }
   ],
   "source": [
    "models_names={dtcl:'DECISION TREE CLASSIFIER'}\n",
    "\n",
    "print('Accuracy for {} model is'.format(models_names[dtcl]),'\\n',accuracy_score(y_train,y_train_predict_dtcl))\n",
    "print('\\n')\n",
    "print('Classification report for {} model is'.format(models_names[dtcl]),'\\n',classification_report(y_train,y_train_predict_dtcl))\n",
    "print('\\n')\n",
    "print('Confusion Matrix for {} model is'.format(models_names[dtcl]))\n",
    "sns.heatmap(cm_train_dtcl,annot=True,fmt='d',cbar=False)\n",
    "plt.title('Confusion Matrix for {}'.format(models_names[dtcl]))\n",
    "plt.xlabel('Predicted Label')\n",
    "plt.ylabel('Actual Label')\n",
    "plt.show()"
   ]
  },
  {
   "cell_type": "code",
   "execution_count": 109,
   "id": "37397ce6",
   "metadata": {},
   "outputs": [
    {
     "name": "stdout",
     "output_type": "stream",
     "text": [
      "AUC: 0.827\n"
     ]
    },
    {
     "data": {
      "image/png": "[encoded data removed]",
      "text/plain": [
       "<Figure size 432x288 with 1 Axes>"
      ]
     },
     "metadata": {
      "needs_background": "light"
     },
     "output_type": "display_data"
    }
   ],
   "source": [
    "# let us see the roc curve and the roc_auc_score for train data\n",
    "\n",
    "# predict probabilities\n",
    "probs = nnclf.predict_proba(x_train)\n",
    "# keep probabilities for the positive outcome only\n",
    "probs = probs[:, 1]\n",
    "# calculate AUC\n",
    "auc_train_dtcl = roc_auc_score(y_train, probs)\n",
    "print('AUC: %.3f' % auc_train_dtcl)\n",
    "# calculate roc curve\n",
    "fpr, tpr, thresholds = roc_curve(y_train, probs)\n",
    "plt.plot([0, 1], [0, 1], linestyle='--')\n",
    "# plot the roc curve for the model\n",
    "plt.plot(fpr, tpr, marker='.')\n",
    "# show the plot\n",
    "plt.show()"
   ]
  },
  {
   "cell_type": "markdown",
   "id": "1a59f5a6",
   "metadata": {},
   "source": [
    "#### Let us look at how the Decision tree model performs on test data"
   ]
  },
  {
   "cell_type": "code",
   "execution_count": 147,
   "id": "6ffebe50",
   "metadata": {},
   "outputs": [],
   "source": [
    "y_test_predict_dtcl = dtcl.predict(x_test)"
   ]
  },
  {
   "cell_type": "code",
   "execution_count": 148,
   "id": "06eb795c",
   "metadata": {},
   "outputs": [
    {
     "data": {
      "text/plain": [
       "0.7011111111111111"
      ]
     },
     "execution_count": 148,
     "metadata": {},
     "output_type": "execute_result"
    }
   ],
   "source": [
    "dtcl.score(x_test, y_test)"
   ]
  },
  {
   "cell_type": "code",
   "execution_count": 149,
   "id": "ad847f63",
   "metadata": {},
   "outputs": [
    {
     "name": "stdout",
     "output_type": "stream",
     "text": [
      "[[488 117]\n",
      " [152 143]]\n"
     ]
    }
   ],
   "source": [
    "#confusion matrix for the test data\n",
    "\n",
    "cm_test_dtcl = confusion_matrix(y_test, y_test_predict_dtcl)\n",
    "print(cm_test_dtcl)"
   ]
  },
  {
   "cell_type": "code",
   "execution_count": 150,
   "id": "e5a9a247",
   "metadata": {},
   "outputs": [
    {
     "name": "stdout",
     "output_type": "stream",
     "text": [
      "Accuracy for DECISION TREE CLASSIFIER model is \n",
      " 0.7011111111111111\n",
      "\n",
      "\n",
      "Classification report for DECISION TREE CLASSIFIER model is \n",
      "               precision    recall  f1-score   support\n",
      "\n",
      "           0       0.76      0.81      0.78       605\n",
      "           1       0.55      0.48      0.52       295\n",
      "\n",
      "    accuracy                           0.70       900\n",
      "   macro avg       0.66      0.65      0.65       900\n",
      "weighted avg       0.69      0.70      0.70       900\n",
      "\n",
      "\n",
      "\n",
      "Confusion Matrix for DECISION TREE CLASSIFIER model is\n"
     ]
    },
    {
     "data": {
      "image/png": "[encoded data removed]",
      "text/plain": [
       "<Figure size 432x288 with 1 Axes>"
      ]
     },
     "metadata": {
      "needs_background": "light"
     },
     "output_type": "display_data"
    }
   ],
   "source": [
    "models_names={dtcl:'DECISION TREE CLASSIFIER'}\n",
    "\n",
    "print('Accuracy for {} model is'.format(models_names[dtcl]),'\\n',accuracy_score(y_test,y_test_predict_dtcl))\n",
    "print('\\n')\n",
    "print('Classification report for {} model is'.format(models_names[dtcl]),'\\n',classification_report(y_test,y_test_predict_dtcl))\n",
    "print('\\n')\n",
    "print('Confusion Matrix for {} model is'.format(models_names[dtcl]))\n",
    "sns.heatmap(cm_test_dtcl,annot=True,fmt='d',cbar=False)\n",
    "plt.title('Confusion Matrix for {}'.format(models_names[dtcl]))\n",
    "plt.xlabel('Predicted Label')\n",
    "plt.ylabel('Actual Label')\n",
    "plt.show()"
   ]
  },
  {
   "cell_type": "code",
   "execution_count": 151,
   "id": "96fd6d83",
   "metadata": {},
   "outputs": [
    {
     "name": "stdout",
     "output_type": "stream",
     "text": [
      "AUC: 0.809\n"
     ]
    },
    {
     "data": {
      "image/png": "[encoded data removed]",
      "text/plain": [
       "<Figure size 432x288 with 1 Axes>"
      ]
     },
     "metadata": {
      "needs_background": "light"
     },
     "output_type": "display_data"
    }
   ],
   "source": [
    "# let us see the roc curve and the roc_auc_score for test data\n",
    "\n",
    "# predict probabilities\n",
    "probs = nnclf.predict_proba(x_test)\n",
    "# keep probabilities for the positive outcome only\n",
    "probs = probs[:, 1]\n",
    "# calculate AUC\n",
    "auc_test_dtcl = roc_auc_score(y_test, probs)\n",
    "print('AUC: %.3f' % auc_test_dtcl)\n",
    "# calculate roc curve\n",
    "fpr, tpr, thresholds = roc_curve(y_test, probs)\n",
    "plt.plot([0, 1], [0, 1], linestyle='--')\n",
    "# plot the roc curve for the model\n",
    "plt.plot(fpr, tpr, marker='.')\n",
    "# show the plot\n",
    "plt.show()"
   ]
  },
  {
   "cell_type": "markdown",
   "id": "128c3b6d",
   "metadata": {},
   "source": [
    "##### Random Forest "
   ]
  },
  {
   "cell_type": "code",
   "execution_count": 152,
   "id": "bf7d3edf",
   "metadata": {},
   "outputs": [],
   "source": [
    "# since we have already predicted while modelling we can use that and check the performs of the model\n",
    "\n",
    "# Starting with the train data\n",
    "\n",
    "y_train_predict_rfcl = rfcl.predict(x_train)"
   ]
  },
  {
   "cell_type": "code",
   "execution_count": 153,
   "id": "f35a5f1d",
   "metadata": {},
   "outputs": [
    {
     "data": {
      "text/plain": [
       "0.8114285714285714"
      ]
     },
     "execution_count": 153,
     "metadata": {},
     "output_type": "execute_result"
    }
   ],
   "source": [
    "rfcl.score(x_train, y_train)"
   ]
  },
  {
   "cell_type": "code",
   "execution_count": 154,
   "id": "df16424c",
   "metadata": {},
   "outputs": [
    {
     "name": "stdout",
     "output_type": "stream",
     "text": [
      "[[1328  143]\n",
      " [ 253  376]]\n"
     ]
    }
   ],
   "source": [
    "# confusion matrix for the training data\n",
    "\n",
    "cm_train_rfcl = confusion_matrix(y_train, y_train_predict_rfcl)\n",
    "print(cm_train_rfcl)"
   ]
  },
  {
   "cell_type": "code",
   "execution_count": 155,
   "id": "646e0cc3",
   "metadata": {},
   "outputs": [
    {
     "name": "stdout",
     "output_type": "stream",
     "text": [
      "Accuracy for RANDOM FOREST CLASSIFIER model is \n",
      " 0.8114285714285714\n",
      "\n",
      "\n",
      "Classification report for RANDOM FOREST CLASSIFIER model is \n",
      "               precision    recall  f1-score   support\n",
      "\n",
      "           0       0.84      0.90      0.87      1471\n",
      "           1       0.72      0.60      0.66       629\n",
      "\n",
      "    accuracy                           0.81      2100\n",
      "   macro avg       0.78      0.75      0.76      2100\n",
      "weighted avg       0.81      0.81      0.81      2100\n",
      "\n",
      "\n",
      "\n",
      "Confusion Matrix for RANDOM FOREST CLASSIFIER model is\n"
     ]
    },
    {
     "data": {
      "image/png": "[encoded data removed]",
      "text/plain": [
       "<Figure size 432x288 with 1 Axes>"
      ]
     },
     "metadata": {
      "needs_background": "light"
     },
     "output_type": "display_data"
    }
   ],
   "source": [
    "models_names={rfcl:'RANDOM FOREST CLASSIFIER'}\n",
    "\n",
    "print('Accuracy for {} model is'.format(models_names[rfcl]),'\\n',accuracy_score(y_train,y_train_predict_rfcl))\n",
    "print('\\n')\n",
    "print('Classification report for {} model is'.format(models_names[rfcl]),'\\n',classification_report(y_train,y_train_predict_rfcl))\n",
    "print('\\n')\n",
    "print('Confusion Matrix for {} model is'.format(models_names[rfcl]))\n",
    "sns.heatmap(cm_train_rfcl,annot=True,fmt='d',cbar=False)\n",
    "plt.title('Confusion Matrix for {}'.format(models_names[rfcl]))\n",
    "plt.xlabel('Predicted Label')\n",
    "plt.ylabel('Actual Label')\n",
    "plt.show()"
   ]
  },
  {
   "cell_type": "code",
   "execution_count": 156,
   "id": "d9ba534c",
   "metadata": {},
   "outputs": [
    {
     "name": "stdout",
     "output_type": "stream",
     "text": [
      "AUC: 0.847\n"
     ]
    },
    {
     "data": {
      "image/png": "[encoded data removed]",
      "text/plain": [
       "<Figure size 432x288 with 1 Axes>"
      ]
     },
     "metadata": {
      "needs_background": "light"
     },
     "output_type": "display_data"
    }
   ],
   "source": [
    "# let us see the roc curve and the roc_auc_score for training data\n",
    "\n",
    "# predict probabilities\n",
    "probs = rfcl.predict_proba(x_train)\n",
    "# keep probabilities for the positive outcome only\n",
    "probs = probs[:, 1]\n",
    "# calculate AUC\n",
    "auc_train_rfcl = roc_auc_score(y_train, probs)\n",
    "print('AUC: %.3f' % auc_train_rfcl)\n",
    "# calculate roc curve\n",
    "fpr, tpr, thresholds = roc_curve(y_train, probs)\n",
    "plt.plot([0, 1], [0, 1], linestyle='--')\n",
    "# plot the roc curve for the model\n",
    "plt.plot(fpr, tpr, marker='.')\n",
    "# show the plot\n",
    "plt.show()"
   ]
  },
  {
   "cell_type": "markdown",
   "id": "56d081e5",
   "metadata": {},
   "source": [
    "#### Let us look at how the Random forest model performs on test data"
   ]
  },
  {
   "cell_type": "code",
   "execution_count": 157,
   "id": "8b86c3d2",
   "metadata": {},
   "outputs": [],
   "source": [
    "y_test_predict = rfcl.predict(x_test)"
   ]
  },
  {
   "cell_type": "code",
   "execution_count": 158,
   "id": "794e153b",
   "metadata": {},
   "outputs": [
    {
     "data": {
      "text/plain": [
       "0.7711111111111111"
      ]
     },
     "execution_count": 158,
     "metadata": {},
     "output_type": "execute_result"
    }
   ],
   "source": [
    "rfcl.score(x_test, y_test)"
   ]
  },
  {
   "cell_type": "code",
   "execution_count": 159,
   "id": "0b5c55e2",
   "metadata": {},
   "outputs": [
    {
     "name": "stdout",
     "output_type": "stream",
     "text": [
      "[[553  52]\n",
      " [154 141]]\n"
     ]
    }
   ],
   "source": [
    "# confusion matrix for the training data\n",
    "\n",
    "cm_test_rfcl = confusion_matrix(y_test, y_test_predict_rfcl)\n",
    "print(cm_test_rfcl)"
   ]
  },
  {
   "cell_type": "code",
   "execution_count": 160,
   "id": "0a470af5",
   "metadata": {},
   "outputs": [
    {
     "name": "stdout",
     "output_type": "stream",
     "text": [
      "Accuracy for RANDOM FOREST CLASSIFIER model is \n",
      " 0.7711111111111111\n",
      "\n",
      "\n",
      "Classification report for RANDOM FOREST CLASSIFIER model is \n",
      "               precision    recall  f1-score   support\n",
      "\n",
      "           0       0.78      0.91      0.84       605\n",
      "           1       0.73      0.48      0.58       295\n",
      "\n",
      "    accuracy                           0.77       900\n",
      "   macro avg       0.76      0.70      0.71       900\n",
      "weighted avg       0.77      0.77      0.76       900\n",
      "\n",
      "\n",
      "\n",
      "Confusion Matrix for RANDOM FOREST CLASSIFIER model is\n"
     ]
    },
    {
     "data": {
      "image/png": "[encoded data removed]",
      "text/plain": [
       "<Figure size 432x288 with 1 Axes>"
      ]
     },
     "metadata": {
      "needs_background": "light"
     },
     "output_type": "display_data"
    }
   ],
   "source": [
    "models_names={rfcl:'RANDOM FOREST CLASSIFIER'}\n",
    "\n",
    "print('Accuracy for {} model is'.format(models_names[rfcl]),'\\n',accuracy_score(y_test,y_test_predict_rfcl))\n",
    "print('\\n')\n",
    "print('Classification report for {} model is'.format(models_names[rfcl]),'\\n',classification_report(y_test,y_test_predict_rfcl))\n",
    "print('\\n')\n",
    "print('Confusion Matrix for {} model is'.format(models_names[rfcl]))\n",
    "sns.heatmap(cm_test_rfcl,annot=True,fmt='d',cbar=False)\n",
    "plt.title('Confusion Matrix for {}'.format(models_names[rfcl]))\n",
    "plt.xlabel('Predicted Label')\n",
    "plt.ylabel('Actual Label')\n",
    "plt.show()"
   ]
  },
  {
   "cell_type": "code",
   "execution_count": 161,
   "id": "49c51171",
   "metadata": {},
   "outputs": [
    {
     "name": "stdout",
     "output_type": "stream",
     "text": [
      "AUC: 0.816\n"
     ]
    },
    {
     "data": {
      "image/png": "[encoded data removed]",
      "text/plain": [
       "<Figure size 432x288 with 1 Axes>"
      ]
     },
     "metadata": {
      "needs_background": "light"
     },
     "output_type": "display_data"
    }
   ],
   "source": [
    "# let us see the roc curve and the roc_auc_score for test data\n",
    "\n",
    "# predict probabilities\n",
    "probs = rfcl.predict_proba(x_test)\n",
    "# keep probabilities for the positive outcome only\n",
    "probs = probs[:, 1]\n",
    "# calculate AUC\n",
    "auc_test_rfcl = roc_auc_score(y_test, probs)\n",
    "print('AUC: %.3f' % auc_test_rfcl)\n",
    "# calculate roc curve\n",
    "fpr, tpr, thresholds = roc_curve(y_test, probs)\n",
    "plt.plot([0, 1], [0, 1], linestyle='--')\n",
    "# plot the roc curve for the model\n",
    "plt.plot(fpr, tpr, marker='.')\n",
    "# show the plot\n",
    "plt.show()"
   ]
  },
  {
   "cell_type": "markdown",
   "id": "33af8441",
   "metadata": {},
   "source": [
    "#### 2.4 Final Model: Compare all the models and write an inference which model is best/optimized."
   ]
  },
  {
   "cell_type": "code",
   "execution_count": 162,
   "id": "5b42c6d7",
   "metadata": {},
   "outputs": [],
   "source": [
    "# Saving the values of classification report of all the model in each object for both train and test data, in order fit it into the dataframe for comparision\n",
    "\n",
    "# Decision Tree(CART)\n",
    "\n",
    "# for train data\n",
    "cart_metrics=classification_report(y_train, y_train_predict_dtcl,output_dict=True)\n",
    "df=pd.DataFrame(cart_metrics).transpose()\n",
    "cart_train_f1_dtcl1=round(df.loc[\"1\"][2],2)\n",
    "cart_train_recall_dtcl1=round(df.loc[\"1\"][1],2)\n",
    "cart_train_precision_dtcl1=round(df.loc[\"1\"][0],2)\n",
    "\n",
    "# for test data\n",
    "cart_metrics=classification_report(y_test, y_test_predict_dtcl,output_dict=True)\n",
    "df=pd.DataFrame(cart_metrics).transpose()\n",
    "cart_test_precision_dtcl2=round(df.loc[\"1\"][0],2)\n",
    "cart_test_recall_dtcl2=round(df.loc[\"1\"][1],2)\n",
    "cart_test_f1_dtcl2=round(df.loc[\"1\"][2],2)\n",
    "\n",
    "# Random Forest\n",
    "\n",
    "# for train data\n",
    "\n",
    "rfcl_metrics = classification_report(y_train, y_train_predict_rfcl,output_dict=True)\n",
    "df=pd.DataFrame(rfcl_metrics).transpose()\n",
    "cart_train_f1_rfcl1=round(df.loc[\"1\"][2],2)\n",
    "cart_train_recall_rfcl1=round(df.loc[\"1\"][1],2)\n",
    "cart_train_precision_rfcl1=round(df.loc[\"1\"][0],2)\n",
    "\n",
    "# for test data\n",
    "\n",
    "rfcl_metrics = classification_report(y_test, y_test_predict_rfcl,output_dict=True)\n",
    "df=pd.DataFrame(rfcl_metrics).transpose()\n",
    "cart_train_f1_rfcl2=round(df.loc[\"1\"][2],2)\n",
    "cart_train_recall_rfcl2=round(df.loc[\"1\"][1],2)\n",
    "cart_train_precision_rfcl2=round(df.loc[\"1\"][0],2)\n",
    "\n",
    "\n",
    "# ANN \n",
    "\n",
    "# for train data\n",
    "\n",
    "nnclf_metrics =classification_report(y_train, y_train_predict_nnclf,output_dict=True)\n",
    "df=pd.DataFrame(nnclf_metrics).transpose()\n",
    "cart_train_f1_nnclf1=round(df.loc[\"1\"][2],2)\n",
    "cart_train_recall_nnclf1=round(df.loc[\"1\"][1],2)\n",
    "cart_train_precision_nnclf1=round(df.loc[\"1\"][0],2)\n",
    "\n",
    "\n",
    "# for test data\n",
    "\n",
    "nnclf_metrics =classification_report(y_test, y_test_predict_nnclf,output_dict=True)\n",
    "df=pd.DataFrame(nnclf_metrics).transpose()\n",
    "cart_train_f1_nnclf2=round(df.loc[\"1\"][2],2)\n",
    "cart_train_recall_nnclf2=round(df.loc[\"1\"][1],2)\n",
    "cart_train_precision_nnclf2=round(df.loc[\"1\"][0],2)"
   ]
  },
  {
   "cell_type": "code",
   "execution_count": 163,
   "id": "323e4bcc",
   "metadata": {},
   "outputs": [
    {
     "data": {
      "text/html": [
       "<div>\n",
       "<style scoped>\n",
       "    .dataframe tbody tr th:only-of-type {\n",
       "        vertical-align: middle;\n",
       "    }\n",
       "\n",
       "    .dataframe tbody tr th {\n",
       "        vertical-align: top;\n",
       "    }\n",
       "\n",
       "    .dataframe thead th {\n",
       "        text-align: right;\n",
       "    }\n",
       "</style>\n",
       "<table border=\"1\" class=\"dataframe\">\n",
       "  <thead>\n",
       "    <tr style=\"text-align: right;\">\n",
       "      <th></th>\n",
       "      <th>CART TRAIN</th>\n",
       "      <th>CART TEST</th>\n",
       "      <th>RF TRAIN</th>\n",
       "      <th>RF TEST</th>\n",
       "      <th>ANN TRAIN</th>\n",
       "      <th>ANN TEST</th>\n",
       "    </tr>\n",
       "  </thead>\n",
       "  <tbody>\n",
       "    <tr>\n",
       "      <th>Accuracy</th>\n",
       "      <td>0.98</td>\n",
       "      <td>0.70</td>\n",
       "      <td>0.81</td>\n",
       "      <td>0.77</td>\n",
       "      <td>0.78</td>\n",
       "      <td>0.76</td>\n",
       "    </tr>\n",
       "    <tr>\n",
       "      <th>AUC</th>\n",
       "      <td>0.83</td>\n",
       "      <td>0.81</td>\n",
       "      <td>0.85</td>\n",
       "      <td>0.82</td>\n",
       "      <td>0.83</td>\n",
       "      <td>0.81</td>\n",
       "    </tr>\n",
       "    <tr>\n",
       "      <th>Precision</th>\n",
       "      <td>0.97</td>\n",
       "      <td>0.55</td>\n",
       "      <td>0.72</td>\n",
       "      <td>0.73</td>\n",
       "      <td>0.68</td>\n",
       "      <td>0.73</td>\n",
       "    </tr>\n",
       "    <tr>\n",
       "      <th>Recall</th>\n",
       "      <td>0.97</td>\n",
       "      <td>0.48</td>\n",
       "      <td>0.60</td>\n",
       "      <td>0.48</td>\n",
       "      <td>0.52</td>\n",
       "      <td>0.44</td>\n",
       "    </tr>\n",
       "    <tr>\n",
       "      <th>F1 Score</th>\n",
       "      <td>0.97</td>\n",
       "      <td>0.52</td>\n",
       "      <td>0.66</td>\n",
       "      <td>0.58</td>\n",
       "      <td>0.59</td>\n",
       "      <td>0.55</td>\n",
       "    </tr>\n",
       "  </tbody>\n",
       "</table>\n",
       "</div>"
      ],
      "text/plain": [
       "           CART TRAIN  CART TEST  RF TRAIN  RF TEST  ANN TRAIN  ANN TEST\n",
       "Accuracy         0.98       0.70      0.81     0.77       0.78      0.76\n",
       "AUC              0.83       0.81      0.85     0.82       0.83      0.81\n",
       "Precision        0.97       0.55      0.72     0.73       0.68      0.73\n",
       "Recall           0.97       0.48      0.60     0.48       0.52      0.44\n",
       "F1 Score         0.97       0.52      0.66     0.58       0.59      0.55"
      ]
     },
     "execution_count": 163,
     "metadata": {},
     "output_type": "execute_result"
    }
   ],
   "source": [
    "index=['Accuracy', 'AUC','Precision', 'Recall', 'F1 Score']\n",
    "                                                    \n",
    "data = pd.DataFrame({'CART TRAIN' : [accuracy_score(y_train,y_train_predict_dtcl), auc_train_dtcl, cart_train_precision_dtcl1, \n",
    "                                     cart_train_f1_dtcl1, cart_train_recall_dtcl1],\n",
    "                    'CART TEST' : [accuracy_score(y_test,y_test_predict_dtcl), auc_test_dtcl, \n",
    "                                  cart_test_precision_dtcl2, cart_test_recall_dtcl2, cart_test_f1_dtcl2],\n",
    "                    'RF TRAIN' : [accuracy_score(y_train, y_train_predict_rfcl), auc_train_rfcl,\n",
    "                                 cart_train_precision_rfcl1, cart_train_recall_rfcl1, cart_train_f1_rfcl1],\n",
    "                    'RF TEST' : [accuracy_score(y_test, y_test_predict_rfcl), auc_test_rfcl,\n",
    "                                cart_train_precision_rfcl2, cart_train_recall_rfcl2, cart_train_f1_rfcl2],\n",
    "                    'ANN TRAIN' : [accuracy_score(y_train, y_train_predict_nnclf), auc_train_ann,\n",
    "                                  cart_train_precision_nnclf1, cart_train_recall_nnclf1, cart_train_f1_nnclf1],\n",
    "                    'ANN TEST': [accuracy_score(y_test, y_test_predict_nnclf), auc_test_ann,\n",
    "                                cart_train_precision_nnclf2, cart_train_recall_nnclf2, cart_train_f1_nnclf2]}, index =index)\n",
    "\n",
    "round(data,2)"
   ]
  },
  {
   "cell_type": "code",
   "execution_count": null,
   "id": "33de2caf",
   "metadata": {},
   "outputs": [],
   "source": []
  }
 ],
 "metadata": {
  "kernelspec": {
   "display_name": "Python 3 (ipykernel)",
   "language": "python",
   "name": "python3"
  },
  "language_info": {
   "codemirror_mode": {
    "name": "ipython",
    "version": 3
   },
   "file_extension": ".py",
   "mimetype": "text/x-python",
   "name": "python",
   "nbconvert_exporter": "python",
   "pygments_lexer": "ipython3",
   "version": "3.9.7"
  }
 },
 "nbformat": 4,
 "nbformat_minor": 5
}
